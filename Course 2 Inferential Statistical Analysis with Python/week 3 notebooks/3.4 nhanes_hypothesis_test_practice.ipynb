{
 "cells": [
  {
   "cell_type": "markdown",
   "metadata": {},
   "source": [
    "# Practice notebook for hypothesis tests using NHANES data\n",
    "\n",
    "This notebook will give you the opportunity to perform some hypothesis tests with the NHANES data that are similar to\n",
    "what was done in the week 3 case study notebook.\n",
    "\n",
    "You can enter your code into the cells that say \"enter your code here\", and you can type responses to the questions into the cells that say \"Type Markdown and Latex\".\n",
    "\n",
    "Note that most of the code that you will need to write below is very similar to code that appears in the case study notebook.  You will need to edit code from that notebook in small ways to adapt it to the prompts below.\n",
    "\n",
    "To get started, we will use the same module imports and read the data in the same way as we did in the case study:"
   ]
  },
  {
   "cell_type": "code",
   "execution_count": 213,
   "metadata": {},
   "outputs": [],
   "source": [
    "%matplotlib inline\n",
    "import matplotlib.pyplot as plt\n",
    "import seaborn as sns\n",
    "import pandas as pd\n",
    "import statsmodels.api as sm\n",
    "import numpy as np\n",
    "import scipy.stats as stats\n",
    "sns.set_theme(rc={'figure.dpi':90})\n",
    "da = pd.read_csv(\"nhanes_2015_2016.csv\")"
   ]
  },
  {
   "cell_type": "markdown",
   "metadata": {},
   "source": [
    "## Question 1\n",
    "\n",
    "Conduct a hypothesis test (at the 0.05 level) for the null hypothesis that the proportion of women who smoke is equal to the proportion of men who smoke."
   ]
  },
  {
   "cell_type": "markdown",
   "metadata": {},
   "source": [
    "**Step 1: Define hypothesis**\n",
    "- Population: female smokers and male smokers\n",
    "- Parameter of Interest: p_women_smoker - p_men_smoker\n",
    "- H0: p_women_smoker = p_men_smoker\n",
    "- Ha: p_women_smoker ≠ p_men_smoker\n",
    "\n",
    "**Step 2: Inference Approach**\n",
    "- Perform 2-tailed z-test to test because we have categorical variables (smoking status) in this case.\n",
    "\n",
    "**Step 3: Check Assumption** \n",
    "- Normal distribution\n",
    "- Large samples size\n",
    "- Two samples are independent"
   ]
  },
  {
   "cell_type": "code",
   "execution_count": 15,
   "metadata": {},
   "outputs": [
    {
     "data": {
      "text/plain": [
       "2    3406\n",
       "1    2319\n",
       "Name: SMQ020, dtype: int64"
      ]
     },
     "execution_count": 15,
     "metadata": {},
     "output_type": "execute_result"
    }
   ],
   "source": [
    "da_filtered = da[da['SMQ020'].isin([1,2])]\n",
    "\n",
    "da_filtered['SMQ020'].value_counts()"
   ]
  },
  {
   "cell_type": "code",
   "execution_count": 23,
   "metadata": {},
   "outputs": [
    {
     "name": "stdout",
     "output_type": "stream",
     "text": [
      "Difference of Proportions Z-Test\n",
      "Z-statistic: -16.049719603652488\n",
      "P-value: 5.742288777302776e-58\n"
     ]
    }
   ],
   "source": [
    "# Split by gender\n",
    "female = da_filtered[(da_filtered['RIAGENDR'] == 2)]\n",
    "male = da_filtered[(da_filtered['RIAGENDR'] == 1)]\n",
    "\n",
    "# calculate n\n",
    "n_female_smoker = len(female[female['SMQ020']==1]['SMQ020'])\n",
    "n_female = len(female)\n",
    "n_male_smoker = len(male[male['SMQ020'] == 1]) \n",
    "n_male = len(male)\n",
    "\n",
    "# Perform two proportion z-test\n",
    "z_stat, p_value = sm.stats.proportions_ztest([n_female_smoker, n_male_smoker], [n_female, n_male])\n",
    "# Print results\n",
    "print(\"Difference of Proportions Z-Test\")\n",
    "print(\"Z-statistic:\", z_stat)\n",
    "print(\"P-value:\", p_value)"
   ]
  },
  {
   "cell_type": "markdown",
   "metadata": {},
   "source": [
    "__Q1a.__ Write 1-2 sentences explaining the substance of your findings to someone who does not know anything about statistical hypothesis tests."
   ]
  },
  {
   "cell_type": "markdown",
   "metadata": {},
   "source": [
    "> The findings indicate a significant difference between the proportion of women who smoke and the proportion of men who smoke. The extremely low p-value suggests that the observed difference in proportions is unlikely to occur by chance alone, providing strong evidence to **reject the null hypothesis and support the alternative hypothesis that the proportions of female smokers and male smokers are not equal.**"
   ]
  },
  {
   "cell_type": "markdown",
   "metadata": {},
   "source": [
    "__Q1b.__ Construct three 95% confidence intervals: one for the proportion of women who smoke, one for the proportion of men who smoke, and one for the difference in the rates of smoking between women and men."
   ]
  },
  {
   "cell_type": "code",
   "execution_count": 51,
   "metadata": {},
   "outputs": [],
   "source": [
    "# Proportion for women and men who smoke and difference in smoking rates (Women - Men)\n",
    "p_female = n_female_smoker / n_female\n",
    "p_male = n_male_smoker / n_male\n",
    "p_diff = p_female - p_male\n",
    "\n",
    "# Standard error for proportion of women who smoke, men who smoke and difference in smoking rates (Women - Men)\n",
    "se_female_smoker = np.sqrt((p_female * (1 - p_female)) / n_female)\n",
    "se_male_smoker = np.sqrt((p_male * (1 - p_male)) / n_male)\n",
    "se_diff = np.sqrt(se_female_smoker**2 + se_male_smoker**2)"
   ]
  },
  {
   "cell_type": "markdown",
   "metadata": {},
   "source": [
    "#### Using formula"
   ]
  },
  {
   "cell_type": "code",
   "execution_count": 54,
   "metadata": {},
   "outputs": [
    {
     "name": "stdout",
     "output_type": "stream",
     "text": [
      "95% Confidence Interval for Proportion of Women who Smoke:(0.288294683866098, 0.32139576027925865)\n",
      "95% Confidence Interval for Proportion of Men who Smoke: (0.49458714955108174, 0.531929377873546)\n",
      "95% Confidence Interval for Difference in Smoking Rates (Women - Men): (-0.2333636091471941, -0.18346247413207697)\n"
     ]
    }
   ],
   "source": [
    "# Confidence interval for proportion of women who smoke\n",
    "ci_female_smoker = (n_female_smoker / n_female) - 1.96 * se_female_smoker, (n_female_smoker / n_female) + 1.96 * se_female_smoker \n",
    "\n",
    "# Confidence interval for proportion of men who smoke\n",
    "ci_male_smoker = (n_male_smoker / n_male) - 1.96 * se_male_smoker, (n_male_smoker / n_male) + 1.96 * se_male_smoker\n",
    "\n",
    "# Confidence interval for the difference in smoking rates (Women - Men)\n",
    "ci_diff_smoking_rates = p_diff - 1.96 * se_diff, p_diff + 1.96 * se_diff\n",
    "\n",
    "# Print the confidence intervals\n",
    "print(f\"95% Confidence Interval for Proportion of Women who Smoke:{ci_female_smoker}\")\n",
    "print(f\"95% Confidence Interval for Proportion of Men who Smoke: {ci_male_smoker}\")\n",
    "print(\"95% Confidence Interval for Difference in Smoking Rates (Women - Men):\", ci_diff_smoking_rates)"
   ]
  },
  {
   "cell_type": "markdown",
   "metadata": {},
   "source": [
    "#### Using Statmodels library"
   ]
  },
  {
   "cell_type": "code",
   "execution_count": 55,
   "metadata": {},
   "outputs": [
    {
     "name": "stdout",
     "output_type": "stream",
     "text": [
      "95% Confidence Interval for Proportion of Women who Smoke: (0.2882949879861214, 0.32139545615923526)\n",
      "95% Confidence Interval for Proportion of Men who Smoke: (0.49458749263718593, 0.5319290347874418)\n",
      "95% Confidence Interval for Difference in Smoking Rates (Women - Men): (-0.23316728428702627, -0.18329691308756202)\n"
     ]
    }
   ],
   "source": [
    "# Confidence interval for proportion of women who smoke\n",
    "ci_female_smoker = sm.stats.proportion_confint(n_female_smoker, n_female, alpha=0.05)\n",
    "\n",
    "# Confidence interval for proportion of men who smoke\n",
    "ci_male_smoker = sm.stats.proportion_confint(n_male_smoker, n_male, alpha=0.05)\n",
    "\n",
    "# Confidence interval for the difference in smoking rates (Women - Men)\n",
    "ci_diff = sm.stats.confint_proportions_2indep(n_female_smoker, n_female, n_male_smoker, n_male, compare='diff', alpha=0.05)\n",
    "\n",
    "# Print the confidence intervals\n",
    "print(\"95% Confidence Interval for Proportion of Women who Smoke:\", ci_female_smoker)\n",
    "print(\"95% Confidence Interval for Proportion of Men who Smoke:\", ci_male_smoker)\n",
    "print(\"95% Confidence Interval for Difference in Smoking Rates (Women - Men):\", ci_diff)"
   ]
  },
  {
   "cell_type": "markdown",
   "metadata": {},
   "source": [
    "#### Using Scipy.stats library"
   ]
  },
  {
   "cell_type": "code",
   "execution_count": 57,
   "metadata": {},
   "outputs": [
    {
     "name": "stdout",
     "output_type": "stream",
     "text": [
      "95% Confidence Interval for Proportion of Women who Smoke: (0.28829498798612146, 0.3213954561592352)\n",
      "95% Confidence Interval for Proportion of Men who Smoke: (0.49458749263718593, 0.5319290347874418)\n",
      "95% Confidence Interval for Difference in Smoking Rates (Women - Men): (-0.2333631506746611, -0.18346293260460997)\n"
     ]
    }
   ],
   "source": [
    "import scipy.stats as stats\n",
    "\n",
    "# 95% Confidence interval for the proportion of women who smoke\n",
    "ci_female_smoker = stats.norm.interval(0.95, loc=p_female_smoker, scale=se_female_smoker)\n",
    "\n",
    "# 95% Confidence interval for the proportion of men who smoke\n",
    "ci_male_smoker = stats.norm.interval(0.95, loc=p_male_smoker, scale=se_male_smoker)\n",
    "\n",
    "# 95% Confidence interval for the difference in smoking rates (Women - Men)\n",
    "ci_diff = stats.norm.interval(0.95, loc=p_diff, scale=se_diff)\n",
    "\n",
    "# Print the confidence intervals\n",
    "print(\"95% Confidence Interval for Proportion of Women who Smoke:\", ci_female_smoker)\n",
    "print(\"95% Confidence Interval for Proportion of Men who Smoke:\", ci_male_smoker)\n",
    "print(\"95% Confidence Interval for Difference in Smoking Rates (Women - Men):\", ci_diff)"
   ]
  },
  {
   "cell_type": "markdown",
   "metadata": {},
   "source": [
    "__Q1c.__ Comment on any ways in which the confidence intervals that you found in part b reinforce, contradict, or add support to the hypothesis test conducted in part a."
   ]
  },
  {
   "cell_type": "markdown",
   "metadata": {},
   "source": [
    ">The confidence intervals provide additional information that reinforces the hypothesis test conducted in part a. \n",
    ">\n",
    ">In the hypothesis test, we obtained a very small p-value, suggesting strong evidence against the null hypothesis of equal proportions of women and men who smoke. This indicates that the proportion of women who smoke is significantly different from the proportion of men who smoke.\n",
    ">\n",
    ">In the confidence intervals, we observe that the confidence interval for the proportion of women who smoke does not overlap with the confidence interval for the proportion of men who smoke. Additionally, the confidence interval for the difference in smoking rates (women - men) does not include zero. These findings further support the conclusion from the hypothesis test that the smoking rates between women and men are significantly different.\n",
    ">\n",
    ">Therefore, both the hypothesis test and the confidence intervals provide consistent evidence that the proportion of women who smoke is not equal to the proportion of men who smoke."
   ]
  },
  {
   "cell_type": "markdown",
   "metadata": {},
   "source": [
    "## Question 2\n",
    "\n",
    "Partition the population into two groups based on whether a person has graduated college or not, using the educational attainment variable [DMDEDUC2](https://wwwn.cdc.gov/Nchs/Nhanes/2015-2016/DEMO_I.htm#DMDEDUC2).  Then conduct a test of the null hypothesis that the average heights [BMXHT] (in centimeters) of the two groups are equal.  Next, convert the heights from centimeters to inches, and conduct a test of the null hypothesis that the average heights (in inches) of the two groups are equal."
   ]
  },
  {
   "cell_type": "markdown",
   "metadata": {},
   "source": [
    "**Step 1: Define hypothesis**\n",
    "- Population: NHANES sample\n",
    "- Parameter of Interest: (average heights of college graduates vs. non-college graduates)\n",
    "- H0: p_college_grad = p_others\n",
    "- Ha: p_college_grad ≠ p_others\n",
    "\n",
    "**Step 2: Inference Approach**\n",
    "- Perform 2-tailed t-test to test because we are comparing the means of two groups (numerical data).\n",
    "\n",
    "**Step 3: Check Assumption** \n",
    "- Normal distribution\n",
    "- Large samples size\n",
    "- Two samples are independent"
   ]
  },
  {
   "cell_type": "code",
   "execution_count": 87,
   "metadata": {},
   "outputs": [
    {
     "name": "stdout",
     "output_type": "stream",
     "text": [
      "11\n",
      "51\n"
     ]
    }
   ],
   "source": [
    "# Partition the population into two groups college graduates and others\n",
    "da_filtered = da[da['DMDEDUC2'] != 9]\n",
    "\n",
    "college_grad = da_filtered[da_filtered['DMDEDUC2'] == 5]\n",
    "others = da_filtered[da_filtered['DMDEDUC2'] != 5]\n",
    "\n",
    "print(college_grad['BMXHT'].isnull().sum())\n",
    "print(others['BMXHT'].isnull().sum())"
   ]
  },
  {
   "cell_type": "code",
   "execution_count": 100,
   "metadata": {},
   "outputs": [],
   "source": [
    "# Dropping missing values\n",
    "heights_college_grad = college_grad['BMXHT'].dropna()\n",
    "heights_others = others['BMXHT'].dropna()"
   ]
  },
  {
   "cell_type": "markdown",
   "metadata": {},
   "source": [
    "#### Using formula"
   ]
  },
  {
   "cell_type": "code",
   "execution_count": 107,
   "metadata": {},
   "outputs": [
    {
     "name": "stdout",
     "output_type": "stream",
     "text": [
      "Difference of Means Test between college graduates and others\n",
      "T-statistic: 7.3565331228912685\n",
      "P-value: 2.156053113822054e-13\n"
     ]
    }
   ],
   "source": [
    "# Dropping missing values\n",
    "mean_diff = heights_college_grad.mean() - heights_others.mean()\n",
    "\n",
    "std_error = np.sqrt(heights_college_grad.std()**2/len(heights_college_grad) + heights_others.std()**2/len(heights_others))\n",
    "\n",
    "t_stat = (mean_diff - 0) / std_error\n",
    "\n",
    "# Calculate p-value\n",
    "p_value = 2 * (1 - stats.t.cdf(abs(t_stat), df=(len(heights_college_grad) + len(heights_others) - 2)))\n",
    "\n",
    "# Print results\n",
    "print(\"Difference of Means Test between average height of college grads and non college grads\")\n",
    "print(\"T-statistic:\", t_stat)\n",
    "print(\"P-value:\", p_value)\n"
   ]
  },
  {
   "cell_type": "markdown",
   "metadata": {},
   "source": [
    "#### Using SciPy library"
   ]
  },
  {
   "cell_type": "code",
   "execution_count": 95,
   "metadata": {},
   "outputs": [
    {
     "name": "stdout",
     "output_type": "stream",
     "text": [
      "Difference of Means Test between college graduates and others\n",
      "T-statistic: 7.191583460970609\n",
      "P-value: 7.233756536545382e-13\n"
     ]
    }
   ],
   "source": [
    "from scipy.stats import ttest_ind\n",
    "\n",
    "# Perform independent samples t-test\n",
    "t_stat, p_value = ttest_ind(heights_college_grad, heights_others)\n",
    "\n",
    "# Print results\n",
    "print(\"Difference of Means Test between average height of college grads and non college grads\")\n",
    "print(\"T-statistic:\", t_stat)\n",
    "print(\"P-value:\", p_value)"
   ]
  },
  {
   "cell_type": "markdown",
   "metadata": {},
   "source": [
    "#### Using Statmodels library"
   ]
  },
  {
   "cell_type": "code",
   "execution_count": 92,
   "metadata": {},
   "outputs": [
    {
     "name": "stdout",
     "output_type": "stream",
     "text": [
      "Difference of Means Test between college graduates and others\n",
      "T-statistic: 7.191583460970609\n",
      "P-value: 7.233756536545382e-13\n",
      "Degrees of Freedom: 5668.0\n"
     ]
    }
   ],
   "source": [
    "# Perform independent samples t-test after dropping missing values\n",
    "t_stat, p_value, dof = sm.stats.ttest_ind(heights_college_grad, heights_others)\n",
    "\n",
    "# Print results\n",
    "print(\"Difference of Means Test between average height of college grads and non college grads\")\n",
    "print(\"T-statistic:\", t_stat)\n",
    "print(\"P-value:\", p_value)\n",
    "print(\"Degrees of Freedom:\", dof)"
   ]
  },
  {
   "cell_type": "markdown",
   "metadata": {},
   "source": [
    "__Q2a.__ Based on the analysis performed here, are you confident that people who graduated from college have a different average height compared to people who did not graduate from college?"
   ]
  },
  {
   "cell_type": "markdown",
   "metadata": {},
   "source": [
    "> Based on the analysis performed, the t-statistic of 7.191583460970609 and the very low p-value of 7.233756536545382e-13 indicate strong evidence against the null hypothesis. Therefore, we have evidence to be confident that there is a significant difference in the average height between people who graduated from college and those who did not graduate from college. "
   ]
  },
  {
   "cell_type": "markdown",
   "metadata": {},
   "source": [
    "__Q2b:__ How do the results obtained using the heights expressed in inches compare to the results obtained using the heights expressed in centimeters?"
   ]
  },
  {
   "cell_type": "code",
   "execution_count": 108,
   "metadata": {},
   "outputs": [
    {
     "name": "stdout",
     "output_type": "stream",
     "text": [
      "Difference of Means Test between college graduates and others\n",
      "T-statistic: 7.191583460970738\n",
      "P-value: 7.233756536538601e-13\n"
     ]
    }
   ],
   "source": [
    "# Calculate in inches\n",
    "\n",
    "# Perform independent samples t-test\n",
    "t_stat, p_value = ttest_ind(heights_college_grad/2.54, heights_others/2.54)\n",
    "\n",
    "# Print results\n",
    "print(\"Difference of Means Test between average height of college grads and non college grads in inches\")\n",
    "print(\"T-statistic:\", t_stat)\n",
    "print(\"P-value:\", p_value)"
   ]
  },
  {
   "cell_type": "markdown",
   "metadata": {},
   "source": [
    ">Comparing these results to the previous results obtained using heights expressed in centimeters, we can see that the t-statistic remains the same. However, the p-value is slightly different. This difference may be due to rounding or precision differences when converting the heights between inches and centimeters.\n",
    ">\n",
    ">Overall, both analyses indicate a significant difference in average height between college graduates and non-graduates, regardless of whether the heights are expressed in inches or centimeters."
   ]
  },
  {
   "cell_type": "markdown",
   "metadata": {},
   "source": [
    "## Question 3\n",
    "\n",
    "Conduct a hypothesis test of the null hypothesis that the average BMI for men between 30 and 40 is equal to the average BMI for men between 50 and 60.  Then carry out this test again after log transforming the BMI values."
   ]
  },
  {
   "cell_type": "markdown",
   "metadata": {},
   "source": [
    "**Step 1: Define hypothesis**\n",
    "- Population: NHANES men samples\n",
    "- Parameter of Interest: (average BMI for men between 30 and 40 vs average BMI for men between 50 and 60)\n",
    "- H0: men_3040_avg_bmi = men_5060_avg_bmi\n",
    "- Ha: men_3040_avg_bmi ≠ men_5060_avg_bmi\n",
    "\n",
    "**Step 2: Inference Approach**\n",
    "- Perform 2-tailed t-test to test because we are comparing the means of two groups (numerical data).\n",
    "\n",
    "**Step 3: Check Assumption** \n",
    "- Normal distribution\n",
    "- Large samples size\n",
    "- Two samples are independent"
   ]
  },
  {
   "cell_type": "code",
   "execution_count": 115,
   "metadata": {},
   "outputs": [
    {
     "name": "stdout",
     "output_type": "stream",
     "text": [
      "0\n",
      "0\n"
     ]
    }
   ],
   "source": [
    "men_3040_bmi = da[(da['RIAGENDR'] == 1) & (da['RIDAGEYR'] >= 30) & (da['RIDAGEYR'] <= 40)]['BMXBMI'].dropna()\n",
    "men_5060_bmi = da[(da['RIAGENDR'] == 1) & (da['RIDAGEYR'] >= 50) & (da['RIDAGEYR'] <= 60)]['BMXBMI'].dropna()\n",
    "\n",
    "print(men_3040_bmi.isnull().sum())\n",
    "print(men_5060_bmi.isnull().sum())"
   ]
  },
  {
   "cell_type": "code",
   "execution_count": 118,
   "metadata": {},
   "outputs": [
    {
     "name": "stdout",
     "output_type": "stream",
     "text": [
      "Difference of Means Test between average BMI for 30-40 men and 50-60 men\n",
      "T-statistic: 0.8984008016755222\n",
      "P-value: 0.36919303123271296\n"
     ]
    }
   ],
   "source": [
    "# Perform independent samples t-test\n",
    "t_stat, p_value = stats.ttest_ind(men_3040_bmi, men_5060_bmi)\n",
    "\n",
    "# Print results\n",
    "print(\"Difference of Means Test between average BMI for 30-40 men and 50-60 men\")\n",
    "print(\"T-statistic:\", t_stat)\n",
    "print(\"P-value:\", p_value)"
   ]
  },
  {
   "cell_type": "markdown",
   "metadata": {},
   "source": [
    ">Based on the analysis performed, the t-statistic is 0.8984008016755222 and the p-value is 0.36919303123271296. \n",
    ">\n",
    ">With a p-value greater than the significance level of 0.05, we fail to reject the null hypothesis. Therefore, we do not have sufficient evidence to conclude that there is a significant difference in the average BMI between men aged 30-40 and men aged 50-60. \n",
    ">\n",
    ">In other words, there is no significant evidence to suggest that the average BMI of these two age groups is different."
   ]
  },
  {
   "cell_type": "markdown",
   "metadata": {},
   "source": [
    "__Q3a.__ How would you characterize the evidence that mean BMI differs between these age bands, and how would you characterize the evidence that mean log BMI differs between these age bands?"
   ]
  },
  {
   "cell_type": "markdown",
   "metadata": {},
   "source": [
    "#### Mean BMI differs"
   ]
  },
  {
   "cell_type": "code",
   "execution_count": 162,
   "metadata": {
    "scrolled": true
   },
   "outputs": [
    {
     "data": {
      "text/html": [
       "<div>\n",
       "<style scoped>\n",
       "    .dataframe tbody tr th:only-of-type {\n",
       "        vertical-align: middle;\n",
       "    }\n",
       "\n",
       "    .dataframe tbody tr th {\n",
       "        vertical-align: top;\n",
       "    }\n",
       "\n",
       "    .dataframe thead th {\n",
       "        text-align: right;\n",
       "    }\n",
       "</style>\n",
       "<table border=\"1\" class=\"dataframe\">\n",
       "  <thead>\n",
       "    <tr style=\"text-align: right;\">\n",
       "      <th></th>\n",
       "      <th>Mean BMI</th>\n",
       "      <th>Confidence Interval</th>\n",
       "    </tr>\n",
       "    <tr>\n",
       "      <th>agegroup</th>\n",
       "      <th></th>\n",
       "      <th></th>\n",
       "    </tr>\n",
       "  </thead>\n",
       "  <tbody>\n",
       "    <tr>\n",
       "      <th>(17, 20]</th>\n",
       "      <td>26.328358</td>\n",
       "      <td>(25.5773, 27.0794)</td>\n",
       "    </tr>\n",
       "    <tr>\n",
       "      <th>(20, 30]</th>\n",
       "      <td>28.099573</td>\n",
       "      <td>(27.6305, 28.5686)</td>\n",
       "    </tr>\n",
       "    <tr>\n",
       "      <th>(30, 40]</th>\n",
       "      <td>29.975244</td>\n",
       "      <td>(29.4879, 30.4626)</td>\n",
       "    </tr>\n",
       "    <tr>\n",
       "      <th>(40, 50]</th>\n",
       "      <td>30.522768</td>\n",
       "      <td>(30.0368, 31.0088)</td>\n",
       "    </tr>\n",
       "    <tr>\n",
       "      <th>(50, 60]</th>\n",
       "      <td>30.000000</td>\n",
       "      <td>(29.5562, 30.4438)</td>\n",
       "    </tr>\n",
       "    <tr>\n",
       "      <th>(60, 70]</th>\n",
       "      <td>30.244380</td>\n",
       "      <td>(29.7848, 30.704)</td>\n",
       "    </tr>\n",
       "    <tr>\n",
       "      <th>(70, 80]</th>\n",
       "      <td>28.557629</td>\n",
       "      <td>(28.1599, 28.9554)</td>\n",
       "    </tr>\n",
       "  </tbody>\n",
       "</table>\n",
       "</div>"
      ],
      "text/plain": [
       "           Mean BMI Confidence Interval\n",
       "agegroup                               \n",
       "(17, 20]  26.328358  (25.5773, 27.0794)\n",
       "(20, 30]  28.099573  (27.6305, 28.5686)\n",
       "(30, 40]  29.975244  (29.4879, 30.4626)\n",
       "(40, 50]  30.522768  (30.0368, 31.0088)\n",
       "(50, 60]  30.000000  (29.5562, 30.4438)\n",
       "(60, 70]  30.244380   (29.7848, 30.704)\n",
       "(70, 80]  28.557629  (28.1599, 28.9554)"
      ]
     },
     "execution_count": 162,
     "metadata": {},
     "output_type": "execute_result"
    }
   ],
   "source": [
    "# The dataset has the min age at 17 and max age at 80 so I split into groups from 17 to 80\n",
    "da['agegroup'] = pd.cut(da['RIDAGEYR'], [17,20,30,40,50,60,70,80])\n",
    "mean_bmi_by_agegroup = da.groupby('agegroup').agg({'BMXBMI': ['mean', 'std', 'count']})\n",
    "\n",
    "# Define the significance level\n",
    "alpha = 0.05\n",
    "\n",
    "# Calculate the confidence intervals for each age band\n",
    "confidence_intervals = []\n",
    "for _, row in mean_bmi_by_agegroup.iterrows():\n",
    "    mean_bmi = row[('BMXBMI', 'mean')]\n",
    "    std_bmi = row[('BMXBMI', 'std')]\n",
    "    count_bmi = row[('BMXBMI', 'count')]\n",
    "    se = std_bmi / np.sqrt(count_bmi)\n",
    "    margin_of_error = se * stats.t.ppf(1 - alpha / 2, count_bmi - 1)\n",
    "    confidence_interval = (round(mean_bmi - margin_of_error, 4), round(mean_bmi + margin_of_error, 4))\n",
    "    confidence_intervals.append(confidence_interval)\n",
    "\n",
    "# Create a new DataFrame for the results\n",
    "mean_bmi_df = pd.DataFrame({\n",
    "    'Mean BMI': mean_bmi_by_agegroup[('BMXBMI', 'mean')],\n",
    "    'Confidence Interval': confidence_intervals\n",
    "})\n",
    "\n",
    "# Rearrange the columns\n",
    "mean_bmi_df = mean_bmi_df[['Mean BMI', 'Confidence Interval']]\n",
    "mean_bmi_df "
   ]
  },
  {
   "cell_type": "markdown",
   "metadata": {},
   "source": [
    "> The evidence strongly suggests that there are differences in mean BMI between the age bands. The mean BMI values vary notably across the age groups, ranging from approximately 26.3 in the (17, 20] age band to around 30.5 in the (40, 50] age band. Furthermore, the confidence intervals for the mean BMI values do not overlap for certain pairs of age bands, indicating statistically significant differences in mean BMI between these groups.\n",
    ">\n",
    ">Since there are multiple age bands involved, conducting a t-test is not appropriate in this case. To formally assess the differences in mean BMI between the age bands, an analysis of variance (ANOVA) can be employed, allowing for the simultaneous comparison of mean BMI across multiple age groups. However, ANOVA has not been covered in this course yet.\n",
    ">\n",
    ">Therefore, based on the available descriptive statistics, there is compelling evidence of variations in mean BMI between the age bands. However, to establish the statistical significance of these differences, further analysis using methods like ANOVA would be required."
   ]
  },
  {
   "cell_type": "markdown",
   "metadata": {},
   "source": [
    "#### Mean log BMI differ"
   ]
  },
  {
   "cell_type": "code",
   "execution_count": 165,
   "metadata": {},
   "outputs": [
    {
     "data": {
      "text/html": [
       "<div>\n",
       "<style scoped>\n",
       "    .dataframe tbody tr th:only-of-type {\n",
       "        vertical-align: middle;\n",
       "    }\n",
       "\n",
       "    .dataframe tbody tr th {\n",
       "        vertical-align: top;\n",
       "    }\n",
       "\n",
       "    .dataframe thead tr th {\n",
       "        text-align: left;\n",
       "    }\n",
       "\n",
       "    .dataframe thead tr:last-of-type th {\n",
       "        text-align: right;\n",
       "    }\n",
       "</style>\n",
       "<table border=\"1\" class=\"dataframe\">\n",
       "  <thead>\n",
       "    <tr>\n",
       "      <th></th>\n",
       "      <th>log_BMXBMI</th>\n",
       "    </tr>\n",
       "    <tr>\n",
       "      <th></th>\n",
       "      <th>mean</th>\n",
       "    </tr>\n",
       "    <tr>\n",
       "      <th>agegroup</th>\n",
       "      <th></th>\n",
       "    </tr>\n",
       "  </thead>\n",
       "  <tbody>\n",
       "    <tr>\n",
       "      <th>(17, 20]</th>\n",
       "      <td>3.239715</td>\n",
       "    </tr>\n",
       "    <tr>\n",
       "      <th>(20, 30]</th>\n",
       "      <td>3.305326</td>\n",
       "    </tr>\n",
       "    <tr>\n",
       "      <th>(30, 40]</th>\n",
       "      <td>3.371574</td>\n",
       "    </tr>\n",
       "    <tr>\n",
       "      <th>(40, 50]</th>\n",
       "      <td>3.391113</td>\n",
       "    </tr>\n",
       "    <tr>\n",
       "      <th>(50, 60]</th>\n",
       "      <td>3.377209</td>\n",
       "    </tr>\n",
       "    <tr>\n",
       "      <th>(60, 70]</th>\n",
       "      <td>3.385506</td>\n",
       "    </tr>\n",
       "    <tr>\n",
       "      <th>(70, 80]</th>\n",
       "      <td>3.332905</td>\n",
       "    </tr>\n",
       "  </tbody>\n",
       "</table>\n",
       "</div>"
      ],
      "text/plain": [
       "         log_BMXBMI\n",
       "               mean\n",
       "agegroup           \n",
       "(17, 20]   3.239715\n",
       "(20, 30]   3.305326\n",
       "(30, 40]   3.371574\n",
       "(40, 50]   3.391113\n",
       "(50, 60]   3.377209\n",
       "(60, 70]   3.385506\n",
       "(70, 80]   3.332905"
      ]
     },
     "execution_count": 165,
     "metadata": {},
     "output_type": "execute_result"
    }
   ],
   "source": [
    "# The dataset has the min age at 17 and max age at 80, so I split into groups from 17 to 80\n",
    "da['agegroup'] = pd.cut(da['RIDAGEYR'], [17, 20, 30, 40, 50, 60, 70, 80])\n",
    "\n",
    "# Calculate the logarithm (base e) of the BMI values for each age band\n",
    "da['log_BMXBMI'] = np.log(da['BMXBMI'])\n",
    "\n",
    "# Group the log BMI values by age band and calculate the mean, standard deviation, and count for each group\n",
    "mean_log_bmi_by_agegroup = da.groupby('agegroup').agg({'log_BMXBMI': ['mean']})\n",
    "mean_log_bmi_by_agegroup"
   ]
  },
  {
   "cell_type": "code",
   "execution_count": 167,
   "metadata": {
    "scrolled": true
   },
   "outputs": [
    {
     "data": {
      "text/html": [
       "<div>\n",
       "<style scoped>\n",
       "    .dataframe tbody tr th:only-of-type {\n",
       "        vertical-align: middle;\n",
       "    }\n",
       "\n",
       "    .dataframe tbody tr th {\n",
       "        vertical-align: top;\n",
       "    }\n",
       "\n",
       "    .dataframe thead th {\n",
       "        text-align: right;\n",
       "    }\n",
       "</style>\n",
       "<table border=\"1\" class=\"dataframe\">\n",
       "  <thead>\n",
       "    <tr style=\"text-align: right;\">\n",
       "      <th></th>\n",
       "      <th>df</th>\n",
       "      <th>sum_sq</th>\n",
       "      <th>mean_sq</th>\n",
       "      <th>F</th>\n",
       "      <th>PR(&gt;F)</th>\n",
       "    </tr>\n",
       "  </thead>\n",
       "  <tbody>\n",
       "    <tr>\n",
       "      <th>C(agegroup)</th>\n",
       "      <td>6.0</td>\n",
       "      <td>9.816164</td>\n",
       "      <td>1.636027</td>\n",
       "      <td>32.313707</td>\n",
       "      <td>1.806192e-38</td>\n",
       "    </tr>\n",
       "    <tr>\n",
       "      <th>Residual</th>\n",
       "      <td>5655.0</td>\n",
       "      <td>286.309903</td>\n",
       "      <td>0.050630</td>\n",
       "      <td>NaN</td>\n",
       "      <td>NaN</td>\n",
       "    </tr>\n",
       "  </tbody>\n",
       "</table>\n",
       "</div>"
      ],
      "text/plain": [
       "                 df      sum_sq   mean_sq          F        PR(>F)\n",
       "C(agegroup)     6.0    9.816164  1.636027  32.313707  1.806192e-38\n",
       "Residual     5655.0  286.309903  0.050630        NaN           NaN"
      ]
     },
     "execution_count": 167,
     "metadata": {},
     "output_type": "execute_result"
    }
   ],
   "source": [
    "# Using ANOVA to test if mean log BMI differs between these age bands\n",
    "\n",
    "from statsmodels.formula.api import ols\n",
    "model = ols('log_BMXBMI ~ C(agegroup)', data=da).fit()\n",
    "anova_table = sm.stats.anova_lm(model)\n",
    "anova_table"
   ]
  },
  {
   "cell_type": "markdown",
   "metadata": {},
   "source": [
    ">Based on the ANOVA results, the p-value for the age group factor is very small (approximately 1.806192e-38), indicating strong evidence of a significant difference in mean log BMI between the age bands.\n",
    ">\n",
    ">The F-statistic is 32.313707, and the corresponding p-value is very small. This suggests that the variability in the log BMI values between the age bands is larger than the variability within the age bands.\n",
    ">\n",
    ">Therefore, we can conclude that there is strong evidence to suggest that the mean log BMI differs significantly between the age bands. The age group variable appears to be a significant predictor of log BMI, indicating that there are systematic differences in log BMI across the different age bands."
   ]
  },
  {
   "cell_type": "markdown",
   "metadata": {},
   "source": [
    "## Question 4\n",
    "\n",
    "Suppose we wish to compare the mean BMI between college graduates and people who have not graduated from college, focusing on women between the ages of 30 and 40.  First, consider the variance of BMI within each of these subpopulations using graphical techniques, and through the estimated subpopulation variances.  Then, calculate pooled and unpooled estimates of the standard error for the difference between the mean BMI in the two populations being compared.  Finally, test the null hypothesis that the two population means are equal, using each of the two different standard errors."
   ]
  },
  {
   "cell_type": "code",
   "execution_count": 169,
   "metadata": {},
   "outputs": [
    {
     "data": {
      "text/plain": [
       "4.0    176\n",
       "5.0    174\n",
       "3.0     84\n",
       "1.0     49\n",
       "2.0     49\n",
       "Name: DMDEDUC2, dtype: int64"
      ]
     },
     "execution_count": 169,
     "metadata": {},
     "output_type": "execute_result"
    }
   ],
   "source": [
    "w3040 = da[(da['RIDAGEYR'] >= 30) & (da['RIDAGEYR'] <= 40) & (da['RIAGENDR'] == 2)]\n",
    "\n",
    "w3040['DMDEDUC2'].value_counts()"
   ]
  },
  {
   "cell_type": "markdown",
   "metadata": {},
   "source": [
    "#### Graphical techniques"
   ]
  },
  {
   "cell_type": "code",
   "execution_count": 216,
   "metadata": {
    "scrolled": false
   },
   "outputs": [
    {
     "data": {
      "image/png": "[encoded data removed]",
      "text/plain": [
       "<Figure size 540x360 with 1 Axes>"
      ]
     },
     "metadata": {},
     "output_type": "display_data"
    }
   ],
   "source": [
    "# Women in 30-40 in the survey do not have any missing values, no need to clean\n",
    "w3040_college_grads_bmi = w3040[w3040['DMDEDUC2'] == 5]['BMXBMI']\n",
    "w3040_not_college_grads_bmi = w3040[w3040['DMDEDUC2'] != 5]['BMXBMI']\n",
    "\n",
    "sns.boxplot([w3040_college_grads_bmi, w3040_not_college_grads_bmi], palette = 'Blues')\n",
    "plt.xticks([0, 1], ['College Graduates', 'Non-College Graduates'], size = 8)\n",
    "plt.xlabel('Education Level')\n",
    "plt.ylabel('BMI');"
   ]
  },
  {
   "cell_type": "markdown",
   "metadata": {},
   "source": [
    ">In the boxplot distribution, there is a noticeable difference in the BMI distribution between college graduates and non-college graduates in women aged 30 to 40. The median BMI for college graduates is around 25, indicating a lower average BMI compared to non-college graduates, whose median BMI is around 30. The range of BMI values for college graduates is from 18 to 42, while for non-college graduates, it is significantly wider, ranging from 18 to over 50.\n",
    ">\n",
    ">The interquartile range (IQR) provides a measure of the spread of the BMI values within each group. For college graduates, the IQR is relatively smaller, ranging from 23 to 32, suggesting a more concentrated distribution of BMI values. On the other hand, non-college graduates have a wider IQR, ranging from 26 to 36, indicating a greater variability in BMI.\n",
    ">\n",
    ">It is worth noting that both groups have a few outliers beyond the maximum range, totaling around 10 points. These outliers represent BMI values that are significantly higher than the majority of the data points.\n",
    ">\n",
    ">Overall, the boxplot analysis suggests that there is a substantial difference in the BMI distribution between college graduates and non-college graduates in women aged 30 to 40, with college graduates tending to have lower BMI values on average."
   ]
  },
  {
   "cell_type": "code",
   "execution_count": 221,
   "metadata": {
    "scrolled": false
   },
   "outputs": [
    {
     "data": {
      "image/png": "[encoded data removed]",
      "text/plain": [
       "<Figure size 540x360 with 1 Axes>"
      ]
     },
     "metadata": {},
     "output_type": "display_data"
    }
   ],
   "source": [
    "# Add a histogram for each subpopulation\n",
    "sns.histplot(w3040_college_grads_bmi, color='lightblue', alpha=0.8, label='College Graduates', kde=True)\n",
    "sns.histplot(w3040_not_college_grads_bmi, color='darkblue', alpha=0.3, label='Non-College Graduates',kde=True)\n",
    "plt.xlabel('BMI')\n",
    "plt.axvline(w3040_college_grads_bmi.mean(), color='lightblue', linestyle='dashed', linewidth=1.5, label='Mean - College Graduates')\n",
    "plt.axvline(w3040_not_college_grads_bmi.mean(), color='darkblue', linestyle='dashed', linewidth=1.5, label='Mean - Non-College Graduates')\n",
    "plt.legend();"
   ]
  },
  {
   "cell_type": "markdown",
   "metadata": {},
   "source": [
    "> The histogram reveals that the BMI distribution for both college graduates and non-college graduates in women aged 30-40 is right-skewed. The majority of college graduates have BMI values concentrated between 20 and 30, whereas non-college graduates exhibit a higher concentration between 25 and 35. This suggests that the most frequent BMI values differ between the two groups.\n",
    ">\n",
    "> The right-skewed shape of the histogram indicates that there is a longer tail on the right side, suggesting that there are relatively more individuals with higher BMI values in both groups\n",
    ">\n",
    "> College graduates have a relatively narrower distribution, with less variability compared to non-college graduates, whose distribution is broader, indicating a greater range of BMI values."
   ]
  },
  {
   "cell_type": "code",
   "execution_count": 224,
   "metadata": {
    "scrolled": true
   },
   "outputs": [
    {
     "name": "stdout",
     "output_type": "stream",
     "text": [
      "Estimated Variance - College Graduates: 53.82741835094558\n",
      "Estimated Variance - Non-College Graduates: 67.97035566088928\n"
     ]
    }
   ],
   "source": [
    "var_college_grads = np.var(w3040_college_grads_bmi)\n",
    "var_not_college_grads = np.var(w3040_not_college_grads_bmi)\n",
    "\n",
    "n1 = len(w3040_college_grads_bmi)\n",
    "n2 = len(w3040_not_college_grads_bmi)\n",
    "\n",
    "# Print the estimated variances\n",
    "print(\"Estimated Variance - College Graduates:\", var_college_grads)\n",
    "print(\"Estimated Variance - Non-College Graduates:\", var_not_college_grads)\n"
   ]
  },
  {
   "cell_type": "markdown",
   "metadata": {},
   "source": [
    "> This indicates that there is greater variability in BMI among non-college graduates compared to college graduates in the given age group. The larger estimated variance suggests a wider range of BMI values and potentially more diverse body compositions among non-college graduates."
   ]
  },
  {
   "cell_type": "markdown",
   "metadata": {},
   "source": [
    "####  Pooled and Unpooled estimates of the standard error for the difference between the mean BMI in the two groups"
   ]
  },
  {
   "cell_type": "code",
   "execution_count": 231,
   "metadata": {},
   "outputs": [
    {
     "data": {
      "text/plain": [
       "(0.7211811328673547, 0.7065509944017663)"
      ]
     },
     "execution_count": 231,
     "metadata": {},
     "output_type": "execute_result"
    }
   ],
   "source": [
    "# Assuming both distributions have the same variances\n",
    "pooled_se = np.sqrt((var_college_grads + var_not_college_grads)/2*(1/n1 + 1/n2))\n",
    "\n",
    "# Assuming both distributions have the different variances\n",
    "unpooled_se = np.sqrt(var_college_grads/n1 + var_not_college_grads/n2)\n",
    "\n",
    "pooled_se, unpooled_se"
   ]
  },
  {
   "cell_type": "markdown",
   "metadata": {},
   "source": [
    "#### test the null hypothesis that the two population means are equal, using each of the two different standard errors"
   ]
  },
  {
   "cell_type": "code",
   "execution_count": 232,
   "metadata": {},
   "outputs": [
    {
     "name": "stdout",
     "output_type": "stream",
     "text": [
      "Pooled t-test p-value: 2.2452324122124168e-06\n",
      "Unpooled t-test p-value: 1.3941692331709277e-06\n"
     ]
    }
   ],
   "source": [
    "mean_diff = w3040_college_grads_bmi.mean() - w3040_not_college_grads_bmi.mean()\n",
    "\n",
    "# Test Statistic\n",
    "pooled_t_stat = mean_diff/pooled_se\n",
    "unpooled_t_stat = mean_diff/unpooled_se\n",
    "\n",
    "# Degrees of freedom\n",
    "dof = n1 + n2 - 2\n",
    "\n",
    "# P-values\n",
    "p_value_pooled = 2 * (1 - stats.t.cdf(abs(pooled_t_stat), dof))\n",
    "p_value_unpooled = 2 * (1 - stats.t.cdf(abs(unpooled_t_stat), dof))\n",
    "\n",
    "# Print the p-values\n",
    "print(\"Pooled t-test p-value:\", p_value_pooled)\n",
    "print(\"Unpooled t-test p-value:\", p_value_unpooled)"
   ]
  },
  {
   "cell_type": "markdown",
   "metadata": {},
   "source": [
    "__Q4a.__ Comment on the strength of evidence against the null hypothesis that these two populations have equal mean BMI."
   ]
  },
  {
   "cell_type": "markdown",
   "metadata": {},
   "source": [
    ">The p-values for both the pooled t-test and the unpooled t-test are very small. This indicates strong evidence against the null hypothesis that these two populations have equal mean BMI. In other words, there is a significant difference in mean BMI between college graduates and non-college graduates in women aged 30-40. "
   ]
  },
  {
   "cell_type": "markdown",
   "metadata": {},
   "source": [
    "__Q4b.__ Comment on the degree to which the two populations have different variances, and on the extent to which the results using different approaches to estimating the standard error of the mean difference give divergent results."
   ]
  },
  {
   "cell_type": "markdown",
   "metadata": {},
   "source": [
    ">The results suggest that the two populations, college graduates and non-college graduates in women aged 30-40, have different variances. This is supported by the calculation of the estimated variances within each group, which yielded values of 53.83 for college graduates and 67.97 for non-college graduates.\n",
    ">\n",
    ">The divergent results obtained using the pooled and unpooled t-tests indicate that there may indeed be a difference in variances between the two populations. The pooled t-test assumes equal variances, which may not be an accurate assumption in this case. The unpooled t-test, which considers the possibility of different variances, may provide a more reliable estimate of the standard error of the mean difference.\n",
    "\n"
   ]
  },
  {
   "cell_type": "markdown",
   "metadata": {},
   "source": [
    "## Question 5\n",
    "\n",
    "Conduct a test of the null hypothesis that the first and second diastolic blood pressure measurements (BPXSY1 and BPXSY2) within a subject have the same mean values."
   ]
  },
  {
   "cell_type": "markdown",
   "metadata": {},
   "source": [
    "**Step 1: Define hypothesis**\n",
    "- Population: NHANES samples\n",
    "- Parameter of Interest: Mean difference in diastolic blood pressure measurements between the first and second measurements (BPXSY1 and BPXSY2) within a subject.\n",
    "- H0: The mean difference in diastolic blood pressure measurements is zero (no difference).\n",
    "- Ha: The mean difference in diastolic blood pressure measurements is not zero (there is a difference).\n",
    "\n",
    "**Step 2: Inference Approach**\n",
    "- Perform a paired t-test to test the hypothesis because we are comparing the means of two related groups (paired observations).\n",
    "\n",
    "**Step 3: Check Assumptions**\n",
    "- Normal distribution of the differences: The differences between the first and second diastolic blood pressure measurements should follow a roughly normal distribution. This assumption can be assessed visually using a histogram or quantitatively using statistical tests.\n",
    "- Paired observations: The first and second measurements should be paired within each subject, meaning that the measurements come from the same individual. This ensures that the observations are dependent.\n",
    "- Independence: The paired observations should be independent of each other, meaning that the measurements from one subject should not influence the measurements from another subject."
   ]
  },
  {
   "cell_type": "code",
   "execution_count": null,
   "metadata": {},
   "outputs": [],
   "source": [
    "# Select valid pairs of measurements (remove missing values)\n",
    "valid_pairs = da[['BPXSY1', 'BPXSY2']].dropna()\n",
    "\n",
    "# Extract the two arrays for paired t-test\n",
    "bp1 = valid_pairs['BPXSY1']\n",
    "bp2 = valid_pairs['BPXSY2']"
   ]
  },
  {
   "cell_type": "markdown",
   "metadata": {},
   "source": [
    "#### Normal calculation"
   ]
  },
  {
   "cell_type": "code",
   "execution_count": 265,
   "metadata": {},
   "outputs": [
    {
     "name": "stdout",
     "output_type": "stream",
     "text": [
      "Paired t-test results:\n",
      "t-statistic: 9.801547258772144\n",
      "p-value: 0.0\n"
     ]
    }
   ],
   "source": [
    "# Calculate the differences between paired observations\n",
    "diff = bp1 - bp2\n",
    "\n",
    "# Calculate the mean of the differences\n",
    "mean_diff = np.mean(diff)\n",
    "\n",
    "# Calculate the standard deviation of the differences\n",
    "std_dev_diff = np.std(diff)\n",
    "\n",
    "# Calculate the standard error \n",
    "se = std_dev_diff / np.sqrt(len(diff))\n",
    "\n",
    "# Calculate the t-statistic\n",
    "t_stat = mean_diff / se\n",
    "\n",
    "# Calculate the p-value\n",
    "p_value = 2 * (1 - stats.t.cdf(abs(t_stat), len(valid_pairs) - 1))\n",
    "\n",
    "# Print the results\n",
    "print(\"Paired t-test results:\")\n",
    "print(\"t-statistic:\", t_stat)\n",
    "print(\"p-value:\", p_value)"
   ]
  },
  {
   "cell_type": "markdown",
   "metadata": {},
   "source": [
    "#### Using ttest_rel from scipy.stats"
   ]
  },
  {
   "cell_type": "code",
   "execution_count": 261,
   "metadata": {},
   "outputs": [
    {
     "name": "stdout",
     "output_type": "stream",
     "text": [
      "Paired t-test results:\n",
      "t-statistic: 9.800634425497911\n",
      "p-value: 1.725831549753543e-22\n"
     ]
    }
   ],
   "source": [
    "# Perform paired t-test\n",
    "t_stat, p_value = stats.ttest_rel(bp1, bp2)\n",
    "\n",
    "# Print the results\n",
    "print(\"Paired t-test results:\")\n",
    "print(\"t-statistic:\", t_stat)\n",
    "print(\"p-value:\", p_value)"
   ]
  },
  {
   "cell_type": "markdown",
   "metadata": {},
   "source": [
    "#### Using ttest_1samp from scipy.stats"
   ]
  },
  {
   "cell_type": "code",
   "execution_count": 262,
   "metadata": {},
   "outputs": [
    {
     "name": "stdout",
     "output_type": "stream",
     "text": [
      "Paired t-test results:\n",
      "t-statistic: 9.800634425497911\n",
      "p-value: 1.725831549753543e-22\n"
     ]
    }
   ],
   "source": [
    "# Perform one-sample t-test on the differences\n",
    "t_stat, p_value = stats.ttest_1samp(diff, 0)\n",
    "\n",
    "# Print the results\n",
    "print(\"Paired t-test results:\")\n",
    "print(\"t-statistic:\", t_stat)\n",
    "print(\"p-value:\", p_value)"
   ]
  },
  {
   "cell_type": "markdown",
   "metadata": {},
   "source": [
    "__Q5a.__ Briefly describe your findings for an audience that is not familiar with statistical hypothesis testing."
   ]
  },
  {
   "cell_type": "markdown",
   "metadata": {},
   "source": [
    ">In this analysis, we investigated whether the first and second diastolic blood pressure measurements within a subject have the same mean values. To determine this, we conducted a paired t-test, which is a statistical test used to compare the means of two related samples.\n",
    ">\n",
    ">Our findings indicate that there is strong evidence to suggest that the first and second diastolic blood pressure measurements have different mean values within the subject. The t-statistic, which measures the difference between the means relative to the variability within the subject, was found to be significantly large.\n",
    ">\n",
    ">Additionally, the p-value, which represents the probability of obtaining such extreme results if the null hypothesis of equal means were true, was extremely small ~0. This indicates that the observed differences in the mean values are highly unlikely to have occurred by chance alone.\n",
    ">\n",
    ">Based on these findings, we can conclude that there are significant differences between the first and second diastolic blood pressure measurements within a subject. This suggests that there may be changes in diastolic blood pressure over time or due to other factors within individuals."
   ]
  },
  {
   "cell_type": "markdown",
   "metadata": {},
   "source": [
    "__Q5b.__ Pretend that the first and second diastolic blood pressure measurements were taken on different people.  Modfify the analysis above as appropriate for this setting."
   ]
  },
  {
   "cell_type": "markdown",
   "metadata": {},
   "source": [
    "#### No more paired data"
   ]
  },
  {
   "cell_type": "code",
   "execution_count": 272,
   "metadata": {
    "scrolled": true
   },
   "outputs": [
    {
     "name": "stdout",
     "output_type": "stream",
     "text": [
      "Pooled t-test results:\n",
      "t-statistic: 1.9065526348810595\n",
      "p-value: 0.0566052136496753\n"
     ]
    }
   ],
   "source": [
    "# Assuming bp1 and bp2 are the two independent samples\n",
    "\n",
    "# Calculate the standard deviations of the two samples\n",
    "std_bp1 = bp1.std()\n",
    "std_bp2 = bp2.std()\n",
    "\n",
    "# Calculate the sample sizes of the two samples\n",
    "n1 = len(bp1)\n",
    "n2 = len(bp2)\n",
    "dof = n1 + n2 - 2\n",
    "\n",
    "# Calculate the pooled standard deviation\n",
    "pooled_std_dev = np.sqrt(((n1 - 1) * std_bp1**2 + (n2 - 1) * std_bp2**2) / dof)\n",
    "\n",
    "# Calculate the standard error of the mean difference (pooled)\n",
    "se_pooled = pooled_std_dev * np.sqrt(1/n1 + 1/n2)\n",
    "\n",
    "# Calculate the t-statistic\n",
    "t_stat_pooled = (mean_bp1 - mean_bp2) / se_pooled\n",
    "\n",
    "# Calculate the p-value (pooled)\n",
    "p_value_pooled = 2 * (1 - stats.t.cdf(np.abs(t_stat_pooled), dof))\n",
    "\n",
    "# Print the results (pooled)\n",
    "print(\"Pooled t-test results:\")\n",
    "print(\"t-statistic:\", t_stat_pooled)\n",
    "print(\"p-value:\", p_value_pooled)"
   ]
  },
  {
   "cell_type": "code",
   "execution_count": 271,
   "metadata": {},
   "outputs": [
    {
     "name": "stdout",
     "output_type": "stream",
     "text": [
      "Unpooled t-test results:\n",
      "t-statistic: 1.9067302116182663\n",
      "p-value: 0.05660886880759963\n"
     ]
    }
   ],
   "source": [
    "# Calculate the standard error of the mean difference (unpooled)\n",
    "se_unpooled = np.sqrt((std_dev_bp1**2 / n1) + (std_dev_bp2**2 / n2))\n",
    "\n",
    "# Calculate the t-statistic\n",
    "t_stat_unpooled = (mean_bp1 - mean_bp2) / se_unpooled\n",
    "\n",
    "# Calculate the degrees of freedom\n",
    "df_unpooled = min(n1 - 1, n2 - 1)\n",
    "\n",
    "# Calculate the p-value (unpooled)\n",
    "p_value_unpooled = 2 * (1 - stats.t.cdf(np.abs(t_stat_unpooled), df_unpooled))\n",
    "\n",
    "# Print the results (unpooled)\n",
    "print(\"Unpooled t-test results:\")\n",
    "print(\"t-statistic:\", t_stat_unpooled)\n",
    "print(\"p-value:\", p_value_unpooled)"
   ]
  },
  {
   "cell_type": "markdown",
   "metadata": {},
   "source": [
    "__Q5c.__ Briefly describe how the approaches used and the results obtained in the preceeding two parts of the question differ."
   ]
  },
  {
   "cell_type": "markdown",
   "metadata": {},
   "source": [
    ">In the preceding two parts of the question, we performed a paired t-test assuming that the first and second diastolic blood pressure measurements were taken on the same individuals (paired observations). However, in this new scenario, we are treating the first and second measurements as independent samples taken from different individuals.\n",
    ">\n",
    ">The approaches used in the two parts differ in the calculation of the standard error of the mean difference. In the paired t-test, we calculated the standard deviation of the differences between the paired observations and divided it by the square root of the sample size. In the independent samples t-test, we calculated the standard errors separately for each sample using their respective standard deviations and sample sizes.\n",
    ">\n",
    ">The results obtained from the two approaches are likely to differ because the assumptions made in each analysis are different. The paired t-test accounts for the correlation between the paired observations and is appropriate when comparing the means of two related measurements within the same individuals. On the other hand, the independent samples t-test assumes that the measurements are independent and is suitable for comparing the means of two separate groups."
   ]
  }
 ],
 "metadata": {
  "kernelspec": {
   "display_name": "Python 3 (ipykernel)",
   "language": "python",
   "name": "python3"
  },
  "language_info": {
   "codemirror_mode": {
    "name": "ipython",
    "version": 3
   },
   "file_extension": ".py",
   "mimetype": "text/x-python",
   "name": "python",
   "nbconvert_exporter": "python",
   "pygments_lexer": "ipython3",
   "version": "3.10.9"
  }
 },
 "nbformat": 4,
 "nbformat_minor": 2
}
