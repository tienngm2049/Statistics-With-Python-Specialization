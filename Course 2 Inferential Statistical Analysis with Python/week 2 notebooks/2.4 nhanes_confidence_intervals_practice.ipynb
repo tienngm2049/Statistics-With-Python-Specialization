{
 "cells": [
  {
   "cell_type": "markdown",
   "metadata": {},
   "source": [
    "### How are Confidence Intervals Calculated?\n",
    "\n",
    "Our equation for calculating confidence intervals is as follows:\n",
    "\n",
    "$$Best\\ Estimate \\pm Margin\\ of\\ Error$$\n",
    "\n",
    "Where the *Best Estimate* is the **observed population proportion or mean** and the *Margin of Error* is the **t-multiplier**.\n",
    "\n",
    "The t-multiplier is calculated based on the degrees of freedom and desired confidence level.  For samples with more than 30 observations and a confidence level of 95%, the t-multiplier is 1.96\n",
    "\n",
    "The equation to create a 95% confidence interval can also be shown as:\n",
    "\n",
    "$$Population\\ Proportion\\ or\\ Mean\\ \\pm (t-multiplier *\\ Standard\\ Error)$$\n",
    "\n",
    "Lastly, the Standard Error is calculated differenly for population proportion and mean:\n",
    "\n",
    "$$Standard\\ Error \\ for\\ Population\\ Proportion = \\sqrt{\\frac{Population\\ Proportion * (1 - Population\\ Proportion)}{Number\\ Of\\ Observations}}$$\n",
    "\n",
    "$$Standard\\ Error \\ for\\ Mean = \\frac{Standard\\ Deviation}{\\sqrt{Number\\ Of\\ Observations}}$$\n"
   ]
  },
  {
   "cell_type": "markdown",
   "metadata": {},
   "source": [
    "# Practice notebook for confidence intervals using NHANES data\n",
    "\n",
    "This notebook will give you the opportunity to practice working with confidence intervals using the NHANES data.\n",
    "\n",
    "You can enter your code into the cells that say \"enter your code here\", and you can type responses to the questions into the cells that say \"Type Markdown and Latex\".\n",
    "\n",
    "Note that most of the code that you will need to write below is very similar to code that appears in the case study notebook.  You will need to edit code from that notebook in small ways to adapt it to the prompts below.\n",
    "\n",
    "To get started, we will use the same module imports and read the data in the same way as we did in the case study:"
   ]
  },
  {
   "cell_type": "code",
   "execution_count": 1,
   "metadata": {},
   "outputs": [],
   "source": [
    "%matplotlib inline\n",
    "import matplotlib.pyplot as plt\n",
    "import pandas as pd\n",
    "import numpy as np\n",
    "import seaborn as sns\n",
    "import statsmodels.api as sm\n",
    "sns.set_theme(rc = {'figure.dpi':110})\n",
    "df = pd.read_csv(\"nhanes_2015_2016.csv\")"
   ]
  },
  {
   "cell_type": "code",
   "execution_count": 2,
   "metadata": {},
   "outputs": [
    {
     "data": {
      "text/plain": [
       "(5735, 28)"
      ]
     },
     "execution_count": 2,
     "metadata": {},
     "output_type": "execute_result"
    }
   ],
   "source": [
    "df.shape"
   ]
  },
  {
   "cell_type": "markdown",
   "metadata": {},
   "source": [
    "## Question 1\n",
    "\n",
    "Restrict the sample to women between 35 and 50, then use the marital status variable [DMDMARTL](https://wwwn.cdc.gov/Nchs/Nhanes/2015-2016/DEMO_I.htm#DMDMARTL) to partition this sample into two groups - women who are currently married, and women who are not currently married.  Within each of these groups, calculate the proportion of women who have completed college.  Calculate 95% confidence intervals for each of these proportions."
   ]
  },
  {
   "cell_type": "code",
   "execution_count": 3,
   "metadata": {},
   "outputs": [],
   "source": [
    "# Select women aged between 35 and 50\n",
    "women_35_50 = df[(df['RIDAGEYR'] >= 35) & (df['RIDAGEYR'] <= 50) & (df['RIAGENDR'] == 2)]\n",
    "\n",
    "# Select married women aged between 35 and 50\n",
    "w3550_married = women_35_50[women_35_50['DMDMARTL'] == 1]\n",
    "\n",
    "# Select not married women aged between 35 and 50\n",
    "w3550_not_married = women_35_50[women_35_50['DMDMARTL'] != 1]"
   ]
  },
  {
   "cell_type": "markdown",
   "metadata": {},
   "source": [
    "###### Calculate the proportion of women who have completed college in married group"
   ]
  },
  {
   "cell_type": "code",
   "execution_count": 4,
   "metadata": {},
   "outputs": [
    {
     "data": {
      "text/plain": [
       "0.36080178173719374"
      ]
     },
     "execution_count": 4,
     "metadata": {},
     "output_type": "execute_result"
    }
   ],
   "source": [
    "# Way 1 to calculate the proportion of women who have completed college\n",
    "\n",
    "proportion_college_completed = w3550_married[w3550_married['DMDEDUC2'] == 5].shape[0]/w3550_married.shape[0]\n",
    "proportion_college_completed"
   ]
  },
  {
   "cell_type": "code",
   "execution_count": 5,
   "metadata": {},
   "outputs": [
    {
     "data": {
      "text/plain": [
       "0.36080178173719374"
      ]
     },
     "execution_count": 5,
     "metadata": {},
     "output_type": "execute_result"
    }
   ],
   "source": [
    "# Way 2 to calculate the proportion of women who have completed college\n",
    "proportion_college_completed = w3550_married['DMDEDUC2'].apply(lambda x: x == 5).mean()\n",
    "proportion_college_completed"
   ]
  },
  {
   "cell_type": "code",
   "execution_count": 6,
   "metadata": {},
   "outputs": [
    {
     "data": {
      "text/plain": [
       "(0.36080178173719374, 0.4807688024668299, 449)"
      ]
     },
     "execution_count": 6,
     "metadata": {},
     "output_type": "execute_result"
    }
   ],
   "source": [
    "# Way 3 (best) to calculate the proportion of women who have completed college\n",
    "\n",
    "proportion_college_completed = w3550_married['DMDEDUC2'].eq(5).mean()\n",
    "std_college_completed = w3550_married['DMDEDUC2'].eq(5).std()\n",
    "n = len(w3550_married['DMDEDUC2'].dropna())\n",
    "proportion_college_completed, std_college_completed, n"
   ]
  },
  {
   "cell_type": "code",
   "execution_count": 7,
   "metadata": {
    "scrolled": true
   },
   "outputs": [
    {
     "data": {
      "text/plain": [
       "(0.3163811208674688, 0.4052224426069187)"
      ]
     },
     "execution_count": 7,
     "metadata": {},
     "output_type": "execute_result"
    }
   ],
   "source": [
    "# Calculate 95% confidence intervals for each of these proportions - Way 1\n",
    "lcb = proportion_college_completed - 1.96*np.sqrt((proportion_college_completed*(1-proportion_college_completed))/n)\n",
    "ucb = proportion_college_completed + 1.96*np.sqrt((proportion_college_completed*(1-proportion_college_completed))/n)\n",
    "lcb,ucb"
   ]
  },
  {
   "cell_type": "code",
   "execution_count": 8,
   "metadata": {
    "scrolled": true
   },
   "outputs": [],
   "source": [
    "# Calculate the proportion of women who have completed college\n",
    "proportion_college_completed = w3550_married['DMDEDUC2'].apply(lambda x: x == 5).mean()\n",
    "\n",
    "# Calculate the sample size\n",
    "sample_size = w3550_married['DMDEDUC2'].dropna().shape[0]\n",
    "\n",
    "# Calculate the standard error of the proportion\n",
    "se = np.sqrt((proportion_college_completed * (1 - proportion_college_completed)) / sample_size)\n",
    "\n",
    "# Calculate the margin of error\n",
    "margin_of_error = 1.96 * se"
   ]
  },
  {
   "cell_type": "code",
   "execution_count": 9,
   "metadata": {},
   "outputs": [
    {
     "name": "stdout",
     "output_type": "stream",
     "text": [
      "Proportion of women aged 35 to 50, married, who have completed college: 0.3608\n",
      "95% Confidence Interval: (0.3164, 0.4052)\n"
     ]
    }
   ],
   "source": [
    "# Calculate the lower and upper bounds of the confidence interval using normal calculation\n",
    "lower_bound = proportion_college_completed - margin_of_error\n",
    "upper_bound = proportion_college_completed + margin_of_error\n",
    "\n",
    "# Print the proportion and confidence interval\n",
    "print(f\"Proportion of women aged 35 to 50, married, who have completed college: {proportion_college_completed:.4f}\")\n",
    "print(f\"95% Confidence Interval: ({lower_bound:.4f}, {upper_bound:.4f})\")"
   ]
  },
  {
   "cell_type": "code",
   "execution_count": 10,
   "metadata": {},
   "outputs": [
    {
     "name": "stdout",
     "output_type": "stream",
     "text": [
      "Proportion of women aged 35 to 50, married, who have completed college: 0.3608\n",
      "95% Confidence Interval: (0.31638193710753626, 0.4052216263668512)\n"
     ]
    }
   ],
   "source": [
    "# Calculate 95% confidence intervals for each of these proportions using statmodels library\n",
    "ci = sm.stats.proportion_confint(count=w3550_married['DMDEDUC2'].apply(lambda x: x == 5).sum(),\n",
    "                        nobs=w3550_married.shape[0], \n",
    "                        alpha=0.05) \n",
    "\n",
    "# Print the proportion and confidence interval\n",
    "print(f\"Proportion of women aged 35 to 50, married, who have completed college: {proportion_college_completed:.4f}\")\n",
    "print(f\"95% Confidence Interval: {ci}\")"
   ]
  },
  {
   "cell_type": "markdown",
   "metadata": {},
   "source": [
    "###### Calculate the proportion of women who have completed college in not married group"
   ]
  },
  {
   "cell_type": "code",
   "execution_count": 11,
   "metadata": {},
   "outputs": [
    {
     "name": "stdout",
     "output_type": "stream",
     "text": [
      "Proportion of women aged 35 to 50, not married, who have completed college: 0.2130\n",
      "95% Confidence Interval: (0.1694, 0.2567)\n"
     ]
    }
   ],
   "source": [
    "# Calculate the proportion of women who have completed college\n",
    "proportion_college_completed = w3550_not_married['DMDEDUC2'].apply(lambda x: x == 5).mean()\n",
    "\n",
    "# Calculate the sample size\n",
    "sample_size = w3550_not_married['DMDEDUC2'].dropna().shape[0]\n",
    "\n",
    "# Calculate the standard error of the proportion\n",
    "se = np.sqrt((proportion_college_completed * (1 - proportion_college_completed)) / sample_size)\n",
    "\n",
    "# Calculate the margin of error\n",
    "margin_of_error = 1.96 * se\n",
    "\n",
    "# Calculate the lower and upper bounds of the confidence interval\n",
    "lower_bound = proportion_college_completed - margin_of_error\n",
    "upper_bound = proportion_college_completed + margin_of_error\n",
    "\n",
    "# Print the proportion and confidence interval\n",
    "print(f\"Proportion of women aged 35 to 50, not married, who have completed college: {proportion_college_completed:.4f}\")\n",
    "print(f\"95% Confidence Interval: ({lower_bound:.4f}, {upper_bound:.4f})\")"
   ]
  },
  {
   "cell_type": "markdown",
   "metadata": {},
   "source": [
    "__Q1a.__ Identify which of the two confidence intervals is wider, and explain why this is the case. "
   ]
  },
  {
   "cell_type": "markdown",
   "metadata": {},
   "source": [
    ">The confidence interval for the proportion of women aged 35 to 50 who are not married and have completed college is wider compared to the confidence interval for the proportion of women in the same age group who are married and have completed college. This is because the sample size for the \"not married\" group is smaller, leading to a larger margin of error and, consequently, a wider interval."
   ]
  },
  {
   "cell_type": "markdown",
   "metadata": {},
   "source": [
    "__Q1b.__ Write 1-2 sentences summarizing these findings for an audience that does not know what a confidence interval is (the goal here is to report the substance of what you learned about how marital status and educational attainment are related, not to teach a person what a confidence interval is)."
   ]
  },
  {
   "cell_type": "markdown",
   "metadata": {},
   "source": [
    ">Among women aged 35 to 50, a higher proportion of those who are married have completed college (0.3608) compared to those who are not married (0.2130). This indicates that marital status may be associated with differences in educational attainment, with married women in this age group having a higher likelihood of completing college. These findings suggest a potential relationship between marital status and educational attainment, highlighting the importance of considering social and demographic factors in understanding educational outcomes."
   ]
  },
  {
   "cell_type": "markdown",
   "metadata": {},
   "source": [
    "## Question 2\n",
    "\n",
    "Construct a 95% confidence interval for the proportion of smokers who are female. Construct a 95% confidence interval for the proportion of smokers who are male. Construct a 95% confidence interval for the **difference** between those two gender proportions."
   ]
  },
  {
   "cell_type": "code",
   "execution_count": 12,
   "metadata": {},
   "outputs": [
    {
     "data": {
      "text/plain": [
       "(2    3406\n",
       " 1    2319\n",
       " 9       8\n",
       " 7       2\n",
       " Name: SMQ020, dtype: int64,\n",
       " 2    2976\n",
       " 1    2759\n",
       " Name: RIAGENDR, dtype: int64)"
      ]
     },
     "execution_count": 12,
     "metadata": {},
     "output_type": "execute_result"
    }
   ],
   "source": [
    "df['SMQ020'].value_counts(), df['RIAGENDR'].value_counts()"
   ]
  },
  {
   "cell_type": "code",
   "execution_count": 13,
   "metadata": {},
   "outputs": [],
   "source": [
    "da = df[~df['SMQ020'].isin([7, 9])] #remove minor not related values"
   ]
  },
  {
   "cell_type": "code",
   "execution_count": 14,
   "metadata": {},
   "outputs": [],
   "source": [
    "female_smoker = da[(da['RIAGENDR'] == 2) & (da['SMQ020'] == 1)]\n",
    "male_smoker = da[(da['RIAGENDR'] == 1) & (da['SMQ020'] == 1)]"
   ]
  },
  {
   "cell_type": "code",
   "execution_count": 15,
   "metadata": {},
   "outputs": [
    {
     "name": "stdout",
     "output_type": "stream",
     "text": [
      "95% Confidence Interval for femake smokers: (0.2879026244757051, 0.3209683432662304)\n",
      "95% Confidence Interval for make smokers: (0.49349056386167417, 0.5307935970661982)\n",
      "95% Confidence Interval for the difference between female and male smokers: (-0.2326312298280253, -0.18278196335791153)\n"
     ]
    }
   ],
   "source": [
    "# Calculate 95% confidence intervals for the proportions of female smokers and male smokers\n",
    "\n",
    "# CI for female smokers\n",
    "ci1 = sm.stats.proportion_confint(count=female_smoker.shape[0],\n",
    "                        nobs=df[df['RIAGENDR'] == 2].shape[0], alpha=0.05) \n",
    "\n",
    "\n",
    "# CI for male smokers\n",
    "ci2 = sm.stats.proportion_confint(count=male_smoker.shape[0],\n",
    "                        nobs=df[df['RIAGENDR'] == 1].shape[0], \n",
    "                        alpha=0.05) \n",
    "\n",
    "\n",
    "\n",
    "# Calculate the proportions of female and male smokers\n",
    "p1 = female_smoker.shape[0] / df[df['RIAGENDR'] == 2].shape[0]\n",
    "p2 = male_smoker.shape[0] / df[df['RIAGENDR'] == 1].shape[0]\n",
    "\n",
    "# Calculate the standard error of the difference between the proportions\n",
    "n1 = df[df['RIAGENDR'] == 2].shape[0]\n",
    "n2 = df[df['RIAGENDR'] == 1].shape[0]\n",
    "se = np.sqrt(p1 * (1 - p1) / n1 + p2 * (1 - p2) / n2)\n",
    "\n",
    "# Calculate the margin of error\n",
    "moe = 1.96 * se\n",
    "\n",
    "# Calculate the lower and upper bounds of the confidence interval\n",
    "lcb = (p1 - p2) - moe\n",
    "ucb = (p1 - p2) + moe\n",
    "\n",
    "\n",
    "# Print the confidence interval\n",
    "print(f\"95% Confidence Interval for femake smokers: {ci1}\")\n",
    "print(f\"95% Confidence Interval for make smokers: {ci2}\")\n",
    "print(f\"95% Confidence Interval for the difference between female and male smokers: ({lcb:}, {ucb})\")"
   ]
  },
  {
   "cell_type": "markdown",
   "metadata": {},
   "source": [
    "__Q2a.__ Why might it be relevant to report the separate gender proportions **and** the difference between the gender proportions?"
   ]
  },
  {
   "cell_type": "markdown",
   "metadata": {},
   "source": [
    ">Reporting the separate gender proportions and the difference between the gender proportions is relevant because it provides a more comprehensive understanding of the data and allows for meaningful comparisons.\n",
    ">\n",
    ">**Separate Gender Proportions:** By reporting the separate gender proportions, we can examine the proportion of smokers within each gender group independently. This information helps us understand the prevalence of smoking among females and males separately. It allows us to identify any gender-specific patterns or differences in smoking behavior.\n",
    ">\n",
    ">**Difference between Gender Proportions:** The difference between the gender proportions provides insights into the gender disparity in smoking prevalence. In the given example, the confidence interval for the difference between female and male smokers is (-0.2326, -0.1828). This indicates that, on average, the proportion of male smokers is significantly higher than the proportion of female smokers. This information highlights the gender-based disparities in smoking habits and can be valuable for public health initiatives, policy-making, and targeted interventions.\n",
    ">\n",
    ">By considering both the separate gender proportions and the difference between the proportions, we gain a more nuanced understanding of the smoking behavior among females and males. It helps us identify areas where specific attention and interventions may be required to address gender disparities and promote healthier behaviors."
   ]
  },
  {
   "cell_type": "markdown",
   "metadata": {},
   "source": [
    "__Q2b.__ How does the **width** of the confidence interval for the difference between the gender proportions compare to the widths of the confidence intervals for the separate gender proportions?"
   ]
  },
  {
   "cell_type": "markdown",
   "metadata": {},
   "source": [
    ">The width of a confidence interval is calculated by subtracting the lower bound from the upper bound. Here are the widths of the confidence intervals you provided:\n",
    ">\n",
    ">- Confidence Interval for female smokers: 0.32139545615923526 - 0.2882949879861214 = 0.03310046817311386 ≈ **0.0033**\n",
    ">\n",
    ">- Confidence Interval for male smokers: 0.5319290347874418 - 0.49458749263718593 = 0.03734154215025587 ≈ **0.0373**\n",
    ">\n",
    ">- Confidence Interval for the difference between female and male smokers: -0.18346247413207697 - (-0.2333636091471941) = 0.04990113501511713 ≈ **0.0499**\n",
    ">\n",
    ">Comparing the widths, we can see that the confidence interval for the difference between female and male smokers has the widest width. This suggests that there is more uncertainty or variability in estimating the difference between the gender proportions compared to the separate gender proportions."
   ]
  },
  {
   "cell_type": "markdown",
   "metadata": {},
   "source": [
    "## Question 3\n",
    "\n",
    "Construct a 95% interval for height ([BMXHT](https://wwwn.cdc.gov/Nchs/Nhanes/2015-2016/BMX_I.htm#BMXHT)) in centimeters.  Then convert height from centimeters to inches by dividing by 2.54, and construct a 95% confidence interval for height in inches.  Finally, convert the endpoints (the lower and upper confidence limits) of the confidence interval from inches to back to centimeters   "
   ]
  },
  {
   "cell_type": "code",
   "execution_count": 16,
   "metadata": {},
   "outputs": [
    {
     "name": "stdout",
     "output_type": "stream",
     "text": [
      "95% Confidence Interval for height in cm: (165.88055125872887, 166.40511769949427)\n",
      "95% Confidence Interval for height in inches: (65.30730364516884, 65.51382586594264)\n"
     ]
    }
   ],
   "source": [
    "height = df['BMXHT'].dropna()\n",
    "height_in_inches = height.div(2.54) #numpy\n",
    "# or height_in_inches = height.div(2.54) (pandas)\n",
    "\n",
    "cm_ci = sm.stats.DescrStatsW(height).zconfint_mean()\n",
    "# Print the confidence interval\n",
    "print(f\"95% Confidence Interval for height in cm: {cm_ci}\")\n",
    "\n",
    "inch_ci = sm.stats.DescrStatsW(height_in_inches).zconfint_mean()\n",
    "# Print the confidence interval\n",
    "print(f\"95% Confidence Interval for height in inches: {inch_ci}\")"
   ]
  },
  {
   "cell_type": "markdown",
   "metadata": {},
   "source": [
    "__Q3a.__ Describe how the confidence interval constructed in centimeters relates to the confidence interval constructed in inches."
   ]
  },
  {
   "cell_type": "markdown",
   "metadata": {},
   "source": [
    ">The confidence intervals constructed in centimeters and inches are related by a simple conversion factor. The conversion factor is 1 inch = 2.54 centimeters. This means that if you multiply the confidence interval in centimeters by 2.54, you will get the confidence interval in inches.\n",
    ">\n",
    ">In this case, the confidence interval in centimeters is (165.8824692958666, 166.4076242941034). If we multiply this by 2.54, we get the confidence interval in inches, which is (65.30805877790023, 65.51481271421393).\n",
    ">\n",
    ">The confidence intervals are the same, but they are expressed in different units. The confidence interval in centimeters is more precise, because it is based on a smaller unit of measurement."
   ]
  },
  {
   "cell_type": "markdown",
   "metadata": {},
   "source": [
    "## Question 4\n",
    "\n",
    "Partition the sample based on 10-year age bands, i.e. the resulting groups will consist of people with ages from 18-28, 29-38, etc. Construct 95% confidence intervals for the difference between the mean BMI for females and for males within each age band."
   ]
  },
  {
   "cell_type": "code",
   "execution_count": 17,
   "metadata": {},
   "outputs": [
    {
     "data": {
      "text/html": [
       "<div>\n",
       "<style scoped>\n",
       "    .dataframe tbody tr th:only-of-type {\n",
       "        vertical-align: middle;\n",
       "    }\n",
       "\n",
       "    .dataframe tbody tr th {\n",
       "        vertical-align: top;\n",
       "    }\n",
       "\n",
       "    .dataframe thead tr th {\n",
       "        text-align: left;\n",
       "    }\n",
       "\n",
       "    .dataframe thead tr:last-of-type th {\n",
       "        text-align: right;\n",
       "    }\n",
       "</style>\n",
       "<table border=\"1\" class=\"dataframe\">\n",
       "  <thead>\n",
       "    <tr>\n",
       "      <th></th>\n",
       "      <th></th>\n",
       "      <th colspan=\"3\" halign=\"left\">BMXBMI</th>\n",
       "    </tr>\n",
       "    <tr>\n",
       "      <th></th>\n",
       "      <th></th>\n",
       "      <th>mean</th>\n",
       "      <th>std</th>\n",
       "      <th>count</th>\n",
       "    </tr>\n",
       "    <tr>\n",
       "      <th>agegroup</th>\n",
       "      <th>gender</th>\n",
       "      <th></th>\n",
       "      <th></th>\n",
       "      <th></th>\n",
       "    </tr>\n",
       "  </thead>\n",
       "  <tbody>\n",
       "    <tr>\n",
       "      <th rowspan=\"2\" valign=\"top\">(18, 28]</th>\n",
       "      <th>Female</th>\n",
       "      <td>28.019433</td>\n",
       "      <td>8.048854</td>\n",
       "      <td>494</td>\n",
       "    </tr>\n",
       "    <tr>\n",
       "      <th>Male</th>\n",
       "      <td>27.058186</td>\n",
       "      <td>6.679515</td>\n",
       "      <td>452</td>\n",
       "    </tr>\n",
       "    <tr>\n",
       "      <th rowspan=\"2\" valign=\"top\">(28, 38]</th>\n",
       "      <th>Female</th>\n",
       "      <td>29.943443</td>\n",
       "      <td>7.959097</td>\n",
       "      <td>488</td>\n",
       "    </tr>\n",
       "    <tr>\n",
       "      <th>Male</th>\n",
       "      <td>29.697180</td>\n",
       "      <td>6.726690</td>\n",
       "      <td>461</td>\n",
       "    </tr>\n",
       "    <tr>\n",
       "      <th rowspan=\"2\" valign=\"top\">(38, 48]</th>\n",
       "      <th>Female</th>\n",
       "      <td>31.003733</td>\n",
       "      <td>8.044642</td>\n",
       "      <td>509</td>\n",
       "    </tr>\n",
       "    <tr>\n",
       "      <th>Male</th>\n",
       "      <td>29.514646</td>\n",
       "      <td>6.104950</td>\n",
       "      <td>396</td>\n",
       "    </tr>\n",
       "    <tr>\n",
       "      <th rowspan=\"2\" valign=\"top\">(48, 58]</th>\n",
       "      <th>Female</th>\n",
       "      <td>30.787361</td>\n",
       "      <td>7.647590</td>\n",
       "      <td>451</td>\n",
       "    </tr>\n",
       "    <tr>\n",
       "      <th>Male</th>\n",
       "      <td>29.385132</td>\n",
       "      <td>6.151534</td>\n",
       "      <td>417</td>\n",
       "    </tr>\n",
       "    <tr>\n",
       "      <th rowspan=\"2\" valign=\"top\">(58, 68]</th>\n",
       "      <th>Female</th>\n",
       "      <td>31.054664</td>\n",
       "      <td>7.779502</td>\n",
       "      <td>461</td>\n",
       "    </tr>\n",
       "    <tr>\n",
       "      <th>Male</th>\n",
       "      <td>29.232462</td>\n",
       "      <td>5.959024</td>\n",
       "      <td>459</td>\n",
       "    </tr>\n",
       "    <tr>\n",
       "      <th rowspan=\"2\" valign=\"top\">(68, 78]</th>\n",
       "      <th>Female</th>\n",
       "      <td>30.537818</td>\n",
       "      <td>6.780588</td>\n",
       "      <td>275</td>\n",
       "    </tr>\n",
       "    <tr>\n",
       "      <th>Male</th>\n",
       "      <td>28.720270</td>\n",
       "      <td>5.336652</td>\n",
       "      <td>296</td>\n",
       "    </tr>\n",
       "    <tr>\n",
       "      <th rowspan=\"2\" valign=\"top\">(78, 88]</th>\n",
       "      <th>Female</th>\n",
       "      <td>27.850000</td>\n",
       "      <td>5.483781</td>\n",
       "      <td>198</td>\n",
       "    </tr>\n",
       "    <tr>\n",
       "      <th>Male</th>\n",
       "      <td>27.464368</td>\n",
       "      <td>4.695650</td>\n",
       "      <td>174</td>\n",
       "    </tr>\n",
       "  </tbody>\n",
       "</table>\n",
       "</div>"
      ],
      "text/plain": [
       "                    BMXBMI                \n",
       "                      mean       std count\n",
       "agegroup gender                           \n",
       "(18, 28] Female  28.019433  8.048854   494\n",
       "         Male    27.058186  6.679515   452\n",
       "(28, 38] Female  29.943443  7.959097   488\n",
       "         Male    29.697180  6.726690   461\n",
       "(38, 48] Female  31.003733  8.044642   509\n",
       "         Male    29.514646  6.104950   396\n",
       "(48, 58] Female  30.787361  7.647590   451\n",
       "         Male    29.385132  6.151534   417\n",
       "(58, 68] Female  31.054664  7.779502   461\n",
       "         Male    29.232462  5.959024   459\n",
       "(68, 78] Female  30.537818  6.780588   275\n",
       "         Male    28.720270  5.336652   296\n",
       "(78, 88] Female  27.850000  5.483781   198\n",
       "         Male    27.464368  4.695650   174"
      ]
     },
     "execution_count": 17,
     "metadata": {},
     "output_type": "execute_result"
    }
   ],
   "source": [
    "df['agegroup'] = pd.cut(df['RIDAGEYR'], [18,28,38,48,58,68,78,88])\n",
    "df[\"gender\"] = df['RIAGENDR'].replace({1: \"Male\", 2: \"Female\"})\n",
    "\n",
    "grouped_data = df.groupby(['agegroup', 'gender']).agg({'BMXBMI': ['mean', 'std', 'count']})\n",
    "grouped_data"
   ]
  },
  {
   "cell_type": "markdown",
   "metadata": {},
   "source": [
    "##### 95% confidence intervals for the mean BMI for separate females and for males within each age band"
   ]
  },
  {
   "cell_type": "code",
   "execution_count": 18,
   "metadata": {
    "scrolled": false
   },
   "outputs": [
    {
     "name": "stdout",
     "output_type": "stream",
     "text": [
      "Age Group: (18, 28], Gender: Female\n",
      "Confidence Interval for BMI: (27.3096, 28.7292)\n",
      "\n",
      "Age Group: (18, 28], Gender: Male\n",
      "Confidence Interval for BMI: (26.4424, 27.6740)\n",
      "\n",
      "Age Group: (28, 38], Gender: Female\n",
      "Confidence Interval for BMI: (29.2373, 30.6496)\n",
      "\n",
      "Age Group: (28, 38], Gender: Male\n",
      "Confidence Interval for BMI: (29.0831, 30.3112)\n",
      "\n",
      "Age Group: (38, 48], Gender: Female\n",
      "Confidence Interval for BMI: (30.3049, 31.7026)\n",
      "\n",
      "Age Group: (38, 48], Gender: Male\n",
      "Confidence Interval for BMI: (28.9133, 30.1159)\n",
      "\n",
      "Age Group: (48, 58], Gender: Female\n",
      "Confidence Interval for BMI: (30.0815, 31.4932)\n",
      "\n",
      "Age Group: (48, 58], Gender: Male\n",
      "Confidence Interval for BMI: (28.7947, 29.9756)\n",
      "\n",
      "Age Group: (58, 68], Gender: Female\n",
      "Confidence Interval for BMI: (30.3445, 31.7648)\n",
      "\n",
      "Age Group: (58, 68], Gender: Male\n",
      "Confidence Interval for BMI: (28.6873, 29.7776)\n",
      "\n",
      "Age Group: (68, 78], Gender: Female\n",
      "Confidence Interval for BMI: (29.7364, 31.3392)\n",
      "\n",
      "Age Group: (68, 78], Gender: Male\n",
      "Confidence Interval for BMI: (28.1123, 29.3282)\n",
      "\n",
      "Age Group: (78, 88], Gender: Female\n",
      "Confidence Interval for BMI: (27.0862, 28.6138)\n",
      "\n",
      "Age Group: (78, 88], Gender: Male\n",
      "Confidence Interval for BMI: (26.7667, 28.1621)\n",
      "\n"
     ]
    }
   ],
   "source": [
    "# Group the data by age group and gender, calculate mean, standard deviation, and count of BMI\n",
    "grouped_data = df.groupby(['agegroup', 'gender']).agg({'BMXBMI': ['mean', 'std', 'count']})\n",
    "\n",
    "# Iterate over each age group and gender combination\n",
    "for age_group, gender in grouped_data.index:\n",
    "    # Access the mean, standard deviation, and count values for the current combination\n",
    "    mean = grouped_data.loc[(age_group, gender), ('BMXBMI', 'mean')]\n",
    "    std = grouped_data.loc[(age_group, gender), ('BMXBMI', 'std')]\n",
    "    count = grouped_data.loc[(age_group, gender), ('BMXBMI', 'count')]\n",
    "    \n",
    "    # Calculate the standard error\n",
    "    se = std / np.sqrt(count)\n",
    "    \n",
    "    # Calculate the margin of error\n",
    "    margin_error = se * 1.96\n",
    "    \n",
    "    # Calculate the confidence interval\n",
    "    lower_ci = mean - margin_error\n",
    "    upper_ci = mean + margin_error\n",
    "    \n",
    "    # Print the results\n",
    "    print(f\"Age Group: {age_group}, Gender: {gender}\")\n",
    "    print(f\"Confidence Interval for BMI: ({lower_ci:.4f}, {upper_ci:.4f})\")\n",
    "    print()\n"
   ]
  },
  {
   "cell_type": "markdown",
   "metadata": {},
   "source": [
    "##### 95% confidence intervals for the [difference] between the mean BMI for females and for males within each age band"
   ]
  },
  {
   "cell_type": "code",
   "execution_count": 19,
   "metadata": {},
   "outputs": [
    {
     "name": "stdout",
     "output_type": "stream",
     "text": [
      "Age Group: (18, 28]\n",
      "Confidence Interval for Difference in Mean BMI (Female - Male): (0.0216, 1.9009)\n",
      "\n",
      "Age Group: (28, 38]\n",
      "Confidence Interval for Difference in Mean BMI (Female - Male): (-0.6895, 1.1821)\n",
      "\n",
      "Age Group: (38, 48]\n",
      "Confidence Interval for Difference in Mean BMI (Female - Male): (0.5671, 2.4110)\n",
      "\n",
      "Age Group: (48, 58]\n",
      "Confidence Interval for Difference in Mean BMI (Female - Male): (0.4820, 2.3224)\n",
      "\n",
      "Age Group: (58, 68]\n",
      "Confidence Interval for Difference in Mean BMI (Female - Male): (0.9269, 2.7175)\n",
      "\n",
      "Age Group: (68, 78]\n",
      "Confidence Interval for Difference in Mean BMI (Female - Male): (0.8116, 2.8235)\n",
      "\n",
      "Age Group: (78, 88]\n",
      "Confidence Interval for Difference in Mean BMI (Female - Male): (-0.6489, 1.4202)\n",
      "\n"
     ]
    }
   ],
   "source": [
    "# Iterate over each age group\n",
    "for age_group in grouped_data.index.levels[0]: # level 0 is agegroup and level 1 is sex\n",
    "    # Calculate the mean, standard deviation, and count for females and males in the current age group\n",
    "    mean_female = grouped_data.loc[(age_group, 'Female'), ('BMXBMI', 'mean')]\n",
    "    std_female = grouped_data.loc[(age_group, 'Female'), ('BMXBMI', 'std')]\n",
    "    count_female = grouped_data.loc[(age_group, 'Female'), ('BMXBMI', 'count')]\n",
    "    \n",
    "    mean_male = grouped_data.loc[(age_group, 'Male'), ('BMXBMI', 'mean')]\n",
    "    std_male = grouped_data.loc[(age_group, 'Male'), ('BMXBMI', 'std')]\n",
    "    count_male = grouped_data.loc[(age_group, 'Male'), ('BMXBMI', 'count')]\n",
    "    \n",
    "    # Calculate the standard error for the difference in means\n",
    "    se_difference = np.sqrt((std_female**2 / count_female) + (std_male**2 / count_male))\n",
    "    \n",
    "    # Calculate the margin of error\n",
    "    margin_error = se_difference * 1.96\n",
    "    \n",
    "    # Calculate the confidence interval for the difference in means\n",
    "    lower_ci = (mean_female - mean_male) - margin_error\n",
    "    upper_ci = (mean_female - mean_male) + margin_error\n",
    "    \n",
    "    # Print the results\n",
    "    print(f\"Age Group: {age_group}\")\n",
    "    print(f\"Confidence Interval for Difference in Mean BMI (Female - Male): ({lower_ci:.4f}, {upper_ci:.4f})\")\n",
    "    print()"
   ]
  },
  {
   "cell_type": "markdown",
   "metadata": {},
   "source": [
    "__Q4a.__ How do the widths of these confidence intervals differ?  Provide an explanation for any substantial diferences in the confidence interval widths that you see."
   ]
  },
  {
   "cell_type": "markdown",
   "metadata": {},
   "source": [
    ">The widths of the confidence intervals differ across age groups. The substantial differences in the confidence interval widths can be attributed to variations in sample sizes and the standard deviations of BMI within each age group.\n",
    ">\n",
    ">In general, wider confidence intervals indicate more uncertainty in the estimate of the true difference in mean BMI between females and males. This can occur due to factors such as smaller sample sizes or higher variability (larger standard deviations) in BMI within the age group.\n",
    ">\n",
    ">For example, age groups with larger sample sizes and lower standard deviations tend to have narrower confidence intervals. This means that the estimates of the mean difference in BMI are more precise and have less uncertainty. Conversely, age groups with smaller sample sizes or higher standard deviations result in wider confidence intervals, indicating greater uncertainty in the estimates.\n",
    ">\n",
    ">Additionally, differences in population characteristics and behaviors between age groups can also contribute to variations in BMI and, consequently, the width of the confidence intervals. These differences may include factors such as lifestyle choices, dietary habits, and physiological changes that occur with age.\n",
    ">\n",
    ">It is important to consider the width of confidence intervals when interpreting the results. Narrower intervals provide more precise estimates, while wider intervals indicate more uncertainty and a wider range of plausible values for the true difference in mean BMI between females and males within each age group."
   ]
  },
  {
   "cell_type": "markdown",
   "metadata": {},
   "source": [
    "## Question 5\n",
    "\n",
    "Construct a 95% confidence interval for the first and second systolic blood pressure measures, and for the difference between the first and second systolic blood pressure measurements within a subject. (BPXSY1 and BPXSY2)."
   ]
  },
  {
   "cell_type": "markdown",
   "metadata": {},
   "source": [
    "##### 95% confidence interval for the first systolic blood pressure measures"
   ]
  },
  {
   "cell_type": "code",
   "execution_count": 20,
   "metadata": {},
   "outputs": [
    {
     "data": {
      "text/plain": [
       "(124.59173366379677, 125.57749425695864)"
      ]
     },
     "execution_count": 20,
     "metadata": {},
     "output_type": "execute_result"
    }
   ],
   "source": [
    "# Confidence interval for first measurement\n",
    "mean1 = df['BPXSY1'].dropna().mean()\n",
    "std1 = df['BPXSY1'].dropna().std()\n",
    "n1 = len(df['BPXSY1'].dropna())\n",
    "se1 = std1 / np.sqrt(n1)\n",
    "margin_of_error1 = 1.96 * se1\n",
    "ci1 = (mean1 - margin_of_error1, mean1 + margin_of_error1)\n",
    "ci1"
   ]
  },
  {
   "cell_type": "markdown",
   "metadata": {},
   "source": [
    "##### 95% confidence interval for the second systolic blood pressure measures"
   ]
  },
  {
   "cell_type": "code",
   "execution_count": 21,
   "metadata": {},
   "outputs": [
    {
     "data": {
      "text/plain": [
       "(124.2949241008532, 125.27111022615674)"
      ]
     },
     "execution_count": 21,
     "metadata": {},
     "output_type": "execute_result"
    }
   ],
   "source": [
    "# Confidence interval for second measurement\n",
    "mean2 = df['BPXSY2'].dropna().mean()\n",
    "std2 = df['BPXSY2'].dropna().std()\n",
    "n2 = len(df['BPXSY2'].dropna())\n",
    "se2 = std2 / np.sqrt(n2)\n",
    "margin_of_error2 = 1.96 * se2\n",
    "ci2 = (mean2 - margin_of_error2, mean2 + margin_of_error2)\n",
    "ci2"
   ]
  },
  {
   "cell_type": "markdown",
   "metadata": {},
   "source": [
    "##### 95% confidence interval for the difference between the first and second systolic blood pressure measurements - paired data"
   ]
  },
  {
   "cell_type": "code",
   "execution_count": 22,
   "metadata": {},
   "outputs": [
    {
     "data": {
      "text/plain": [
       "(0.5443759623573572, 0.8055960994791114)"
      ]
     },
     "execution_count": 22,
     "metadata": {},
     "output_type": "execute_result"
    }
   ],
   "source": [
    "# Confidence interval for the difference\n",
    "diff = df['BPXSY1'] - df['BPXSY2']\n",
    "mean_diff_paired = diff.mean()\n",
    "std_diff_paired = diff.std()\n",
    "se_paired = std_diff_paired / np.sqrt(len(diff))\n",
    "\n",
    "lower_bound_paired = mean_diff_paired - 1.96 * se_paired\n",
    "upper_bound_paired = mean_diff_paired + 1.96 * se_paired\n",
    "(lower_bound_paired, upper_bound_paired)"
   ]
  },
  {
   "cell_type": "markdown",
   "metadata": {},
   "source": [
    "__Q5a.__ Based on these confidence intervals, would you say that a difference of zero between the population mean values of the first and second systolic blood pressure measures is consistent with the data?"
   ]
  },
  {
   "cell_type": "markdown",
   "metadata": {},
   "source": [
    "> Based on the confidence interval for the difference between the first and second systolic blood pressure measurements, which is approximately (0.5444, 0.8056), it suggests that a difference of zero between the population mean values of the first and second systolic blood pressure measures is not consistent with the data.\n",
    "> \n",
    "> This is because the confidence interval does not include the value zero. The lower bound of the confidence interval is 0.5444, indicating that the population mean difference is likely to be greater than zero. \n",
    "> \n",
    "> Therefore, based on this confidence interval, we can conclude that there is a statistically significant difference between the population mean values of the first and second systolic blood pressure measures."
   ]
  },
  {
   "cell_type": "markdown",
   "metadata": {},
   "source": [
    "__Q5b.__ Discuss how the width of the confidence interval for the within-subject difference compares to the widths of the confidence intervals for the first and second measures."
   ]
  },
  {
   "cell_type": "markdown",
   "metadata": {},
   "source": [
    "> The width of a confidence interval represents the precision of the estimate. A narrower confidence interval indicates a more precise estimate, while a wider confidence interval indicates a less precise estimate.\n",
    ">\n",
    ">In this case:\n",
    ">- Width of the Confidence Interval for the First Measure: ≈ 0.9858\n",
    ">- Width of the Confidence Interval for the Second Measure: ≈ 0.9762\n",
    ">- Width of the Confidence Interval for the Within-Subject Difference: ≈ 1.9619\n",
    ">\n",
    ">Comparing these widths, we can see that the width of the confidence interval for the within-subject difference is larger than the widths of the confidence intervals for both the first and second measures. This suggests that the estimate of the within-subject difference is less precise than the estimates of the first and second measures.\n",
    ">\n",
    "> In other words, the wider width of the confidence interval for the within-subject difference suggests that the estimate of the difference between the first and second measurements within the same subject is less reliable and more uncertain compared to the estimates derived from analyzing the measurements separately."
   ]
  },
  {
   "cell_type": "markdown",
   "metadata": {},
   "source": [
    "## Question 6\n",
    "\n",
    "Construct a 95% confidence interval for the mean difference between the average age of a smoker, and the average age of a non-smoker."
   ]
  },
  {
   "cell_type": "markdown",
   "metadata": {},
   "source": [
    "##### independent groups"
   ]
  },
  {
   "cell_type": "code",
   "execution_count": 23,
   "metadata": {},
   "outputs": [
    {
     "data": {
      "text/plain": [
       "(5.891821038686711, 7.781694511200261)"
      ]
     },
     "execution_count": 23,
     "metadata": {},
     "output_type": "execute_result"
    }
   ],
   "source": [
    "smoker = df[df['SMQ020'] ==1]\n",
    "non_smoker = df[df['SMQ020'] ==2]\n",
    "\n",
    "mean_smoker = smoker['RIDAGEYR'].mean()\n",
    "mean_non_smoker = non_smoker['RIDAGEYR'].mean()\n",
    "\n",
    "std_smoker = smoker['RIDAGEYR'].std()\n",
    "std_non_smoker = non_smoker['RIDAGEYR'].std()\n",
    "\n",
    "se = np.sqrt((std_smoker**2 / len(smoker)) + (std_non_smoker**2 / len(non_smoker)))\n",
    "\n",
    "moe = 1.96 * se\n",
    "\n",
    "ci = (mean_smoker - mean_non_smoker - moe, mean_smoker - mean_non_smoker + moe)\n",
    "\n",
    "ci"
   ]
  },
  {
   "cell_type": "markdown",
   "metadata": {},
   "source": [
    "__Q6a.__ Use graphical and numerical techniques to compare the variation in the ages of smokers to the variation in the ages of non-smokers.  "
   ]
  },
  {
   "cell_type": "markdown",
   "metadata": {},
   "source": [
    "##### Graphical Technique:"
   ]
  },
  {
   "cell_type": "code",
   "execution_count": 24,
   "metadata": {
    "scrolled": false
   },
   "outputs": [
    {
     "data": {
      "image/png": "[encoded data removed]",
      "text/plain": [
       "<Figure size 704x528 with 1 Axes>"
      ]
     },
     "metadata": {},
     "output_type": "display_data"
    }
   ],
   "source": [
    "smk = df[(df['SMQ020'] != 7) & (df['SMQ020'] != 9)]['SMQ020']\n",
    "\n",
    "sns.boxplot(x=smk, y='RIDAGEYR', data=df, palette = 'Blues_r')\n",
    "plt.title('Ages of Smokers vs Non-smokers')\n",
    "plt.xlabel('Smoker (1)  /  Non-smoker (2)')\n",
    "plt.ylabel('Age');"
   ]
  },
  {
   "cell_type": "markdown",
   "metadata": {},
   "source": [
    "> ##### Report:\n",
    ">For the non-smokers group, the boxplot reveals that the median age is around 45 years. The box (interquartile range) spans from approximately 38 to 51 years, indicating that the central 50% of non-smokers' ages fall within this range. The whiskers extend up to the minimum and maximum values within 1.5 times the interquartile range. Since the survey only included individuals from 18 to 80 years old, there are no outliers present in the non-smokers' boxplot.\n",
    ">\n",
    ">In contrast, the boxplot for smokers shows a higher median age of around 52 years. The interquartile range spans from approximately 47 to 56 years, indicating that the central 50% of smokers' ages fall within this range. Similarly, there are no outliers in the smokers' boxplot due to the age restriction of the survey.\n",
    ">\n",
    ">Comparing the two boxplots, we can see that the median age of smokers is higher than that of non-smokers, suggesting that, on average, smokers tend to be older than non-smokers. The ranges of the boxplots are relatively similar, indicating that the spread or variability in ages is comparable between the two groups."
   ]
  },
  {
   "cell_type": "code",
   "execution_count": 25,
   "metadata": {
    "scrolled": false
   },
   "outputs": [
    {
     "data": {
      "text/plain": [
       "<matplotlib.legend.Legend at 0x27de697a230>"
      ]
     },
     "execution_count": 25,
     "metadata": {},
     "output_type": "execute_result"
    },
    {
     "data": {
      "image/png": "[encoded data removed]",
      "text/plain": [
       "<Figure size 704x528 with 1 Axes>"
      ]
     },
     "metadata": {},
     "output_type": "display_data"
    }
   ],
   "source": [
    "sns.histplot(data=df, x='RIDAGEYR', hue=smk, bins=30, kde=True, palette='spring', alpha=0.5)\n",
    "plt.title('Distribution of Ages')\n",
    "plt.xlabel('Age')\n",
    "plt.ylabel('Count')\n",
    "plt.legend(['Non-smoker', 'Smoker'])"
   ]
  },
  {
   "cell_type": "markdown",
   "metadata": {},
   "source": [
    "> ##### Report:\n",
    ">\n",
    ">For non-smokers, the distribution appears to be left-skewed and bimodal. This means that the majority of non-smokers have ages concentrated towards the younger end of the spectrum, with a peak around the mid-20s. However, there is also a second peak around the mid-50s, indicating the presence of a distinct subgroup within the non-smoker population. This bimodal nature suggests the existence of two separate age groups with different frequencies.\n",
    ">\n",
    ">On the other hand, the distribution of ages for smokers appears to be right-skewed and unimodal. The majority of smokers have ages that are right-skewed, with a peak around the mid-50s. This suggests that there is a higher frequency of smokers in this age range compared to other age groups. However, it's important to note that the count of smokers decreases as age increases, indicating a decline in the number of smokers in older age groups.\n",
    ">\n",
    ">It is interesting to observe that both non-smokers and smokers have a significant number of individuals in their 80s. This could be attributed to factors such as improved healthcare and increased life expectancy, leading to a larger population of older individuals in the dataset."
   ]
  },
  {
   "cell_type": "markdown",
   "metadata": {},
   "source": [
    "##### Numerical Techniques:"
   ]
  },
  {
   "cell_type": "code",
   "execution_count": 27,
   "metadata": {},
   "outputs": [
    {
     "name": "stdout",
     "output_type": "stream",
     "text": [
      "Standard Deviation - Smokers: 17.461140920034683\n",
      "Standard Deviation - Non-Smokers: 18.54328622905512\n",
      "IQR - Smokers: 29.0\n",
      "IQR - Non-Smokers: 31.0\n"
     ]
    }
   ],
   "source": [
    "# Standard deviation\n",
    "std_smoker = smoker['RIDAGEYR'].std()\n",
    "std_non_smoker = non_smoker['RIDAGEYR'].std()\n",
    "\n",
    "# Interquartile range (IQR)\n",
    "iqr_smoker = smoker['RIDAGEYR'].quantile(0.75) - smoker['RIDAGEYR'].quantile(0.25)\n",
    "iqr_non_smoker = non_smoker['RIDAGEYR'].quantile(0.75) - non_smoker['RIDAGEYR'].quantile(0.25)\n",
    "\n",
    "print(\"Standard Deviation - Smokers:\", std_smoker)\n",
    "print(\"Standard Deviation - Non-Smokers:\", std_non_smoker)\n",
    "print(\"IQR - Smokers:\", iqr_smoker)\n",
    "print(\"IQR - Non-Smokers:\", iqr_non_smoker)\n"
   ]
  },
  {
   "cell_type": "markdown",
   "metadata": {},
   "source": [
    "__Q6b.__ Does it appear that uncertainty about the mean age of smokers, or uncertainty about the mean age of non-smokers contributed more to the uncertainty for the mean difference that we are focusing on here?"
   ]
  },
  {
   "cell_type": "code",
   "execution_count": 26,
   "metadata": {},
   "outputs": [
    {
     "data": {
      "text/plain": [
       "(52.09659335920655, 45.259835584263065, (5.891821038686711, 7.781694511200261))"
      ]
     },
     "execution_count": 26,
     "metadata": {},
     "output_type": "execute_result"
    }
   ],
   "source": [
    "mean_smoker,mean_non_smoker,ci"
   ]
  },
  {
   "cell_type": "markdown",
   "metadata": {},
   "source": [
    ">To assess which factor contributed more to the uncertainty for the mean difference, we can examine the values of the mean ages, as well as the confidence interval for the difference.\n",
    "> In this case, we have:\n",
    ">\n",
    ">- Mean age of smokers: 52.097 years \n",
    ">- Mean age of non-smokers: 45.260 years\n",
    ">- Confidence interval for the mean difference: (5.892, 7.782)\n",
    ">\n",
    ">Comparing these values, we can see that the mean age of smokers is higher than the mean age of non-smokers, indicating that smokers, on average, tend to be older.\n",
    ">\n",
    ">The confidence interval for the mean difference suggests that the true difference in mean ages between smokers and non-smokers falls within the range of 5.892 to 7.782 years. Since this interval does not include zero, it indicates a statistically significant difference between the two groups.\n",
    ">\n",
    ">Therefore, based on the provided information, it appears that **uncertainty about the mean age of non-smokers contributed more to the overall uncertainty for the mean difference between smokers and non-smokers**. The narrower confidence interval for the mean difference suggests a more precise estimate of the difference, while the larger difference in means indicates a greater contribution from the mean age of non-smokers to the overall uncertainty."
   ]
  }
 ],
 "metadata": {
  "kernelspec": {
   "display_name": "Python 3 (ipykernel)",
   "language": "python",
   "name": "python3"
  },
  "language_info": {
   "codemirror_mode": {
    "name": "ipython",
    "version": 3
   },
   "file_extension": ".py",
   "mimetype": "text/x-python",
   "name": "python",
   "nbconvert_exporter": "python",
   "pygments_lexer": "ipython3",
   "version": "3.10.9"
  }
 },
 "nbformat": 4,
 "nbformat_minor": 2
}
